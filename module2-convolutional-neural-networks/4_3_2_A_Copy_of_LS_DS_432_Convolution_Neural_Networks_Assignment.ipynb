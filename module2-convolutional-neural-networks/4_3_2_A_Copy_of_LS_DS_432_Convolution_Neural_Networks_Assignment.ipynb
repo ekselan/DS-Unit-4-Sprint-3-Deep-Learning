{
  "nbformat": 4,
  "nbformat_minor": 0,
  "metadata": {
    "kernelspec": {
      "name": "python3",
      "display_name": "Python 3"
    },
    "nteract": {
      "version": "0.23.1"
    },
    "colab": {
      "name": "4_3_2_A_Copy of LS_DS_432_Convolution_Neural_Networks_Assignment.ipynb",
      "provenance": [],
      "collapsed_sections": [
        "3oge9IliTwiJ"
      ]
    },
    "accelerator": "GPU"
  },
  "cells": [
    {
      "cell_type": "markdown",
      "metadata": {
        "id": "kc3f06prVNCa",
        "colab_type": "text"
      },
      "source": [
        "<img align=\"left\" src=\"https://lever-client-logos.s3.amazonaws.com/864372b1-534c-480e-acd5-9711f850815c-1524247202159.png\" width=200>\n",
        "<br></br>\n",
        "<br></br>\n",
        "\n",
        "## *Data Science Unit 4 Sprint 3 Assignment 2*\n",
        "# Convolutional Neural Networks (CNNs)"
      ]
    },
    {
      "cell_type": "markdown",
      "metadata": {
        "colab_type": "text",
        "id": "0lfZdD_cp1t5"
      },
      "source": [
        "# Assignment\n",
        "\n",
        "- <a href=\"#p1\">Part 1:</a> Pre-Trained Model\n",
        "- <a href=\"#p2\">Part 2:</a> Custom CNN Model\n",
        "- <a href=\"#p3\">Part 3:</a> CNN with Data Augmentation\n",
        "\n",
        "\n",
        "You will apply three different CNN models to a binary image classification model using Keras. Classify images of Mountains (`./data/train/mountain/*`) and images of forests (`./data/train/forest/*`). Treat mountains as the positive class (1) and the forest images as the negative (zero). \n",
        "\n",
        "|Mountain (+)|Forest (-)|\n",
        "|---|---|\n",
        "|![](https://github.com/ekselan/DS-Unit-4-Sprint-3-Deep-Learning/blob/master/module2-convolutional-neural-networks/data/train/mountain/art1131.jpg?raw=1)|![](https://github.com/ekselan/DS-Unit-4-Sprint-3-Deep-Learning/blob/master/module2-convolutional-neural-networks/data/validation/forest/cdmc317.jpg?raw=1)|\n",
        "\n",
        "The problem is relatively difficult given that the sample is tiny: there are about 350 observations per class. This sample size might be something that you can expect with prototyping an image classification problem/solution at work. Get accustomed to evaluating several different possible models."
      ]
    },
    {
      "cell_type": "markdown",
      "metadata": {
        "colab_type": "text",
        "id": "EhGEyC_qVNCc"
      },
      "source": [
        "# Pre - Trained Model\n",
        "<a id=\"p1\"></a>\n",
        "\n",
        "Load a pretrained network from Keras, [ResNet50](https://tfhub.dev/google/imagenet/resnet_v1_50/classification/1) - a 50 layer deep network trained to recognize [1000 objects](https://storage.googleapis.com/download.tensorflow.org/data/ImageNetLabels.txt). Starting usage:\n",
        "\n",
        "```python\n",
        "import numpy as np\n",
        "\n",
        "from tensorflow.keras.applications.resnet50 import ResNet50\n",
        "from tensorflow.keras.preprocessing import image\n",
        "from tensorflow.keras.applications.resnet50 import preprocess_input, decode_predictions\n",
        "\n",
        "from tensorflow.keras.layers import Dense, GlobalAveragePooling2D\n",
        "from tensorflow.keras.models import Model # This is the functional API\n",
        "\n",
        "resnet = ResNet50(weights='imagenet', include_top=False)\n",
        "\n",
        "```\n",
        "\n",
        "The `include_top` parameter in `ResNet50` will remove the full connected layers from the ResNet model. The next step is to turn off the training of the ResNet layers. We want to use the learned parameters without updating them in future training passes. \n",
        "\n",
        "```python\n",
        "for layer in resnet.layers:\n",
        "    layer.trainable = False\n",
        "```\n",
        "\n",
        "Using the Keras functional API, we will need to additional additional full connected layers to our model. We we removed the top layers, we removed all preivous fully connected layers. In other words, we kept only the feature processing portions of our network. You can expert with additional layers beyond what's listed here. The `GlobalAveragePooling2D` layer functions as a really fancy flatten function by taking the average of each of the last convolutional layer outputs (which is two dimensional still). \n",
        "\n",
        "```python\n",
        "x = resnet.output\n",
        "x = GlobalAveragePooling2D()(x) # This layer is a really fancy flatten\n",
        "x = Dense(1024, activation='relu')(x)\n",
        "predictions = Dense(1, activation='sigmoid')(x)\n",
        "model = Model(resnet.input, predictions)\n",
        "```\n",
        "\n",
        "Your assignment is to apply the transfer learning above to classify images of Mountains (`./data/train/mountain/*`) and images of forests (`./data/train/forest/*`). Treat mountains as the positive class (1) and the forest images as the negative (zero). \n",
        "\n",
        "Steps to complete assignment: \n",
        "1. Load in Image Data into numpy arrays (`X`) \n",
        "2. Create a `y` for the labels\n",
        "3. Train your model with pre-trained layers from resnet\n",
        "4. Report your model's accuracy"
      ]
    },
    {
      "cell_type": "code",
      "metadata": {
        "id": "ib2Iz9XaEJ-k",
        "colab_type": "code",
        "colab": {}
      },
      "source": [
        "### Load pretrained neural net\n",
        "\n",
        "import numpy as np\n",
        " \n",
        "from tensorflow.keras.applications.resnet50 import ResNet50\n",
        "from tensorflow.keras.preprocessing import image\n",
        "from tensorflow.keras.applications.resnet50 import preprocess_input, decode_predictions\n",
        " \n",
        "from tensorflow.keras.layers import Dense, GlobalAveragePooling2D\n",
        "from tensorflow.keras.models import Model # This is the functional API\n",
        " \n",
        "resnet = ResNet50(weights='imagenet', include_top=False) # Remove full connected\n",
        "# layers from model\n",
        "\n",
        "# Turn off training in resnet layers to retain pre-training\n",
        "for layer in resnet.layers:\n",
        "    layer.trainable = False\n",
        "\n",
        "x = resnet.output\n",
        "x = GlobalAveragePooling2D()(x) # This layer is a really fancy flatten\n",
        "x = Dense(1024, activation='relu')(x)\n",
        "predictions = Dense(1, activation='sigmoid')(x)\n",
        "model = Model(resnet.input, predictions)"
      ],
      "execution_count": 67,
      "outputs": []
    },
    {
      "cell_type": "markdown",
      "metadata": {
        "id": "LFwkfxlXVNCc",
        "colab_type": "text"
      },
      "source": [
        "## Load in Data\n",
        "\n",
        "This surprisingly more difficult than it seems, because you are working with directories of images instead of a single file. This boiler plate will help you download a zipped version of the directory of images. The directory is organized into \"train\" and \"validation\" which you can use inside an `ImageGenerator` class to stream batches of images thru your model.  \n"
      ]
    },
    {
      "cell_type": "markdown",
      "metadata": {
        "id": "YutXFYVvVNCd",
        "colab_type": "text"
      },
      "source": [
        "### Download & Summarize the Data\n",
        "\n",
        "This step is completed for you. Just run the cells and review the results. "
      ]
    },
    {
      "cell_type": "code",
      "metadata": {
        "id": "mQsmnsCEVNCe",
        "colab_type": "code",
        "colab": {}
      },
      "source": [
        "import tensorflow as tf\n",
        "import os\n",
        "\n",
        "_URL = 'https://github.com/LambdaSchool/DS-Unit-4-Sprint-3-Deep-Learning/blob/master/module2-convolutional-neural-networks/data.zip?raw=true'\n",
        "\n",
        "path_to_zip = tf.keras.utils.get_file('./data.zip', origin=_URL, extract=True)\n",
        "PATH = os.path.join(os.path.dirname(path_to_zip), 'data')"
      ],
      "execution_count": 68,
      "outputs": []
    },
    {
      "cell_type": "code",
      "metadata": {
        "id": "QjsFYJp8VNCi",
        "colab_type": "code",
        "colab": {}
      },
      "source": [
        "train_dir = os.path.join(PATH, 'train')\n",
        "validation_dir = os.path.join(PATH, 'validation')"
      ],
      "execution_count": 69,
      "outputs": []
    },
    {
      "cell_type": "code",
      "metadata": {
        "id": "_dL8Vs0dVNCm",
        "colab_type": "code",
        "colab": {}
      },
      "source": [
        "train_mountain_dir = os.path.join(train_dir, 'mountain')  # directory with our training cat pictures\n",
        "train_forest_dir = os.path.join(train_dir, 'forest')  # directory with our training dog pictures\n",
        "validation_mountain_dir = os.path.join(validation_dir, 'mountain')  # directory with our validation cat pictures\n",
        "validation_forest_dir = os.path.join(validation_dir, 'forest')  # directory with our validation dog pictures"
      ],
      "execution_count": 70,
      "outputs": []
    },
    {
      "cell_type": "code",
      "metadata": {
        "id": "BE3eavEnVNCp",
        "colab_type": "code",
        "colab": {}
      },
      "source": [
        "num_mountain_tr = len(os.listdir(train_mountain_dir))\n",
        "num_forest_tr = len(os.listdir(train_forest_dir))\n",
        "\n",
        "num_mountain_val = len(os.listdir(validation_mountain_dir))\n",
        "num_forest_val = len(os.listdir(validation_forest_dir))\n",
        "\n",
        "total_train = num_mountain_tr + num_forest_tr\n",
        "total_val = num_mountain_val + num_forest_val"
      ],
      "execution_count": 71,
      "outputs": []
    },
    {
      "cell_type": "code",
      "metadata": {
        "id": "y7bXNwnAVNCs",
        "colab_type": "code",
        "colab": {
          "base_uri": "https://localhost:8080/",
          "height": 136
        },
        "outputId": "79e003ab-b9a8-40a0-bd63-ab90d631fccd"
      },
      "source": [
        "print('total training mountain images:', num_mountain_tr)\n",
        "print('total training forest images:', num_forest_tr)\n",
        "\n",
        "print('total validation mountain images:', num_mountain_val)\n",
        "print('total validation forest images:', num_forest_val)\n",
        "print(\"--\")\n",
        "print(\"Total training images:\", total_train)\n",
        "print(\"Total validation images:\", total_val)"
      ],
      "execution_count": 72,
      "outputs": [
        {
          "output_type": "stream",
          "text": [
            "total training mountain images: 254\n",
            "total training forest images: 270\n",
            "total validation mountain images: 125\n",
            "total validation forest images: 62\n",
            "--\n",
            "Total training images: 524\n",
            "Total validation images: 187\n"
          ],
          "name": "stdout"
        }
      ]
    },
    {
      "cell_type": "markdown",
      "metadata": {
        "id": "UJiqVFfSVNCv",
        "colab_type": "text"
      },
      "source": [
        "### Keras `ImageGenerator` to Process the Data\n",
        "\n",
        "This step is completed for you, but please review the code. The `ImageGenerator` class reads in batches of data from a directory and pass them to the model one batch at a time. Just like large text files, this method is advantageous, because it stifles the need to load a bunch of images into memory. \n",
        "\n",
        "Check out the documentation for this class method: [Keras `ImageGenerator` Class](https://keras.io/preprocessing/image/#imagedatagenerator-class). You'll expand it's use in the third assignment objective."
      ]
    },
    {
      "cell_type": "code",
      "metadata": {
        "id": "GfZa_vbJVNCv",
        "colab_type": "code",
        "colab": {}
      },
      "source": [
        "batch_size = 16\n",
        "epochs = 50\n",
        "IMG_HEIGHT = 224\n",
        "IMG_WIDTH = 224"
      ],
      "execution_count": 73,
      "outputs": []
    },
    {
      "cell_type": "code",
      "metadata": {
        "id": "sX6riM2nVNCz",
        "colab_type": "code",
        "colab": {}
      },
      "source": [
        "from tensorflow.keras.preprocessing.image import ImageDataGenerator\n",
        "\n",
        "train_image_generator = ImageDataGenerator(rescale=1./255) # Generator for our training data\n",
        "validation_image_generator = ImageDataGenerator(rescale=1./255) # Generator for our validation data"
      ],
      "execution_count": 74,
      "outputs": []
    },
    {
      "cell_type": "code",
      "metadata": {
        "id": "7m74Xf9tVNC2",
        "colab_type": "code",
        "colab": {
          "base_uri": "https://localhost:8080/",
          "height": 34
        },
        "outputId": "d67f270e-63d8-4434-f062-b048c5fb0144"
      },
      "source": [
        "train_data_gen = train_image_generator.flow_from_directory(batch_size=batch_size,\n",
        "                                                           directory=train_dir,\n",
        "                                                           shuffle=True,\n",
        "                                                           target_size=(IMG_HEIGHT, IMG_WIDTH),\n",
        "                                                           class_mode='binary')"
      ],
      "execution_count": 75,
      "outputs": [
        {
          "output_type": "stream",
          "text": [
            "Found 533 images belonging to 2 classes.\n"
          ],
          "name": "stdout"
        }
      ]
    },
    {
      "cell_type": "code",
      "metadata": {
        "id": "zt_x3RL4VNC4",
        "colab_type": "code",
        "colab": {
          "base_uri": "https://localhost:8080/",
          "height": 34
        },
        "outputId": "c4accf08-2e33-41e6-aa31-55eee30e2ee9"
      },
      "source": [
        "val_data_gen = validation_image_generator.flow_from_directory(batch_size=batch_size,\n",
        "                                                              directory=validation_dir,\n",
        "                                                              target_size=(IMG_HEIGHT, IMG_WIDTH),\n",
        "                                                              class_mode='binary')"
      ],
      "execution_count": 76,
      "outputs": [
        {
          "output_type": "stream",
          "text": [
            "Found 195 images belonging to 2 classes.\n"
          ],
          "name": "stdout"
        }
      ]
    },
    {
      "cell_type": "markdown",
      "metadata": {
        "id": "3oge9IliTwiJ",
        "colab_type": "text"
      },
      "source": [
        "#### Explore / Experiment"
      ]
    },
    {
      "cell_type": "code",
      "metadata": {
        "id": "CiPrhzyXKI4Z",
        "colab_type": "code",
        "colab": {
          "base_uri": "https://localhost:8080/",
          "height": 34
        },
        "outputId": "ce71cdeb-7e4b-4734-abc1-f820680d5401"
      },
      "source": [
        "type(train_data_gen)"
      ],
      "execution_count": 11,
      "outputs": [
        {
          "output_type": "execute_result",
          "data": {
            "text/plain": [
              "keras_preprocessing.image.directory_iterator.DirectoryIterator"
            ]
          },
          "metadata": {
            "tags": []
          },
          "execution_count": 11
        }
      ]
    },
    {
      "cell_type": "code",
      "metadata": {
        "id": "6mvCgj4iKUHH",
        "colab_type": "code",
        "colab": {
          "base_uri": "https://localhost:8080/",
          "height": 34
        },
        "outputId": "44ea3da3-71e9-469b-f691-4c6296a5aafd"
      },
      "source": [
        "len(train_data_gen[0])"
      ],
      "execution_count": 15,
      "outputs": [
        {
          "output_type": "execute_result",
          "data": {
            "text/plain": [
              "2"
            ]
          },
          "metadata": {
            "tags": []
          },
          "execution_count": 15
        }
      ]
    },
    {
      "cell_type": "code",
      "metadata": {
        "id": "PdVH_FImPNqF",
        "colab_type": "code",
        "colab": {
          "base_uri": "https://localhost:8080/",
          "height": 51
        },
        "outputId": "859ef6d9-6d3b-4e51-e026-defe1fb8cf33"
      },
      "source": [
        "train_data_gen[0][1]"
      ],
      "execution_count": 25,
      "outputs": [
        {
          "output_type": "execute_result",
          "data": {
            "text/plain": [
              "array([1., 1., 0., 1., 1., 1., 0., 1., 0., 0., 0., 1., 0., 0., 1., 0.],\n",
              "      dtype=float32)"
            ]
          },
          "metadata": {
            "tags": []
          },
          "execution_count": 25
        }
      ]
    },
    {
      "cell_type": "code",
      "metadata": {
        "id": "la7W-5t-Qh32",
        "colab_type": "code",
        "colab": {
          "base_uri": "https://localhost:8080/",
          "height": 34
        },
        "outputId": "f2707e18-9aca-4ba1-cee6-135221678c3b"
      },
      "source": [
        "len(train_data_gen)"
      ],
      "execution_count": 26,
      "outputs": [
        {
          "output_type": "execute_result",
          "data": {
            "text/plain": [
              "34"
            ]
          },
          "metadata": {
            "tags": []
          },
          "execution_count": 26
        }
      ]
    },
    {
      "cell_type": "code",
      "metadata": {
        "id": "XM0IYyfCRAa1",
        "colab_type": "code",
        "colab": {
          "base_uri": "https://localhost:8080/",
          "height": 34
        },
        "outputId": "7f453ace-40d5-4d31-9a18-4ba28ca79bdd"
      },
      "source": [
        "train_data_gen[33][1]"
      ],
      "execution_count": 35,
      "outputs": [
        {
          "output_type": "execute_result",
          "data": {
            "text/plain": [
              "array([0., 0., 0., 0., 0.], dtype=float32)"
            ]
          },
          "metadata": {
            "tags": []
          },
          "execution_count": 35
        }
      ]
    },
    {
      "cell_type": "code",
      "metadata": {
        "id": "QvoTit2GQU_c",
        "colab_type": "code",
        "colab": {}
      },
      "source": [
        "### Split into train_images, train_labels, val_images, val_labels\n",
        "\n",
        "train_images = []\n",
        "train_labels = []\n",
        "for i in range(len(train_data_gen)):\n",
        "  img = train_data_gen[i][0]\n",
        "  train_images.append(img)\n",
        "  lbl = train_data_gen[i][1]\n",
        "  train_labels.append(lbl)\n",
        "\n",
        "# train_labels = []\n",
        "# for i in range(len(train_data_gen)):\n",
        "#   lbl = train_data_gen[i][1]\n",
        "#   train_images.append(img)\n",
        "\n",
        "# train_images = train_data_gen[i][0]"
      ],
      "execution_count": 37,
      "outputs": []
    },
    {
      "cell_type": "code",
      "metadata": {
        "id": "F0Rby8-zSUUG",
        "colab_type": "code",
        "colab": {
          "base_uri": "https://localhost:8080/",
          "height": 34
        },
        "outputId": "65868056-6ca7-4323-dc57-3762eb55e6e8"
      },
      "source": [
        "len(train_images)"
      ],
      "execution_count": 38,
      "outputs": [
        {
          "output_type": "execute_result",
          "data": {
            "text/plain": [
              "34"
            ]
          },
          "metadata": {
            "tags": []
          },
          "execution_count": 38
        }
      ]
    },
    {
      "cell_type": "code",
      "metadata": {
        "id": "GqC_--aOSWmY",
        "colab_type": "code",
        "colab": {
          "base_uri": "https://localhost:8080/",
          "height": 34
        },
        "outputId": "b9ca845a-d48e-4860-fc17-88bec2d944a1"
      },
      "source": [
        "len(train_labels)"
      ],
      "execution_count": 39,
      "outputs": [
        {
          "output_type": "execute_result",
          "data": {
            "text/plain": [
              "34"
            ]
          },
          "metadata": {
            "tags": []
          },
          "execution_count": 39
        }
      ]
    },
    {
      "cell_type": "code",
      "metadata": {
        "id": "Fl8K946ESYoA",
        "colab_type": "code",
        "colab": {}
      },
      "source": [
        "### Convert to arrays\n",
        "\n",
        "train_images = np.array(train_images)\n",
        "train_labels = np.array(train_labels)"
      ],
      "execution_count": 44,
      "outputs": []
    },
    {
      "cell_type": "code",
      "metadata": {
        "id": "vfvFqTsfTRQj",
        "colab_type": "code",
        "colab": {
          "base_uri": "https://localhost:8080/",
          "height": 34
        },
        "outputId": "ac2e9daa-75fa-4e2b-bf96-ca27c5bdad67"
      },
      "source": [
        "train_images[0].shape"
      ],
      "execution_count": 54,
      "outputs": [
        {
          "output_type": "execute_result",
          "data": {
            "text/plain": [
              "(16, 224, 224, 3)"
            ]
          },
          "metadata": {
            "tags": []
          },
          "execution_count": 54
        }
      ]
    },
    {
      "cell_type": "code",
      "metadata": {
        "id": "Z8Sci-UJS_nz",
        "colab_type": "code",
        "colab": {
          "base_uri": "https://localhost:8080/",
          "height": 34
        },
        "outputId": "503b1cc4-bb4e-4548-bf3b-3fd2ec0927f1"
      },
      "source": [
        "train_labels[0].shape"
      ],
      "execution_count": 52,
      "outputs": [
        {
          "output_type": "execute_result",
          "data": {
            "text/plain": [
              "(16,)"
            ]
          },
          "metadata": {
            "tags": []
          },
          "execution_count": 52
        }
      ]
    },
    {
      "cell_type": "markdown",
      "metadata": {
        "id": "jAVbAbI-VNC8",
        "colab_type": "text"
      },
      "source": [
        "## Instatiate Model"
      ]
    },
    {
      "cell_type": "code",
      "metadata": {
        "id": "TLZ6S4a9VNC8",
        "colab_type": "code",
        "colab": {}
      },
      "source": [
        "x = resnet.output\n",
        "x = GlobalAveragePooling2D()(x) # This layer is a really fancy flatten\n",
        "x = Dense(1024, activation='relu')(x)\n",
        "predictions = Dense(1, activation='sigmoid')(x)\n",
        "model = Model(resnet.input, predictions)"
      ],
      "execution_count": 77,
      "outputs": []
    },
    {
      "cell_type": "code",
      "metadata": {
        "id": "9ubIe5v9N2XR",
        "colab_type": "code",
        "colab": {}
      },
      "source": [
        "# model.summary()"
      ],
      "execution_count": null,
      "outputs": []
    },
    {
      "cell_type": "code",
      "metadata": {
        "id": "SolIZCacOEFF",
        "colab_type": "code",
        "colab": {}
      },
      "source": [
        "### Compile model\n",
        "\n",
        "model.compile(optimizer='nadam',\n",
        "              loss='binary_crossentropy',\n",
        "              metrics=['accuracy'])"
      ],
      "execution_count": 78,
      "outputs": []
    },
    {
      "cell_type": "markdown",
      "metadata": {
        "id": "kbeDlaqBVNC_",
        "colab_type": "text"
      },
      "source": [
        "## Fit Model"
      ]
    },
    {
      "cell_type": "code",
      "metadata": {
        "id": "4vSnQ24GVNC_",
        "colab_type": "code",
        "colab": {
          "base_uri": "https://localhost:8080/",
          "height": 1000
        },
        "outputId": "e81b5634-c45f-4d99-ae9e-222cdc395710"
      },
      "source": [
        "history = model.fit(\n",
        "    train_data_gen,\n",
        "    steps_per_epoch=total_train // batch_size,\n",
        "    epochs=epochs,\n",
        "    validation_data=val_data_gen,\n",
        "    validation_steps=total_val // batch_size\n",
        ")"
      ],
      "execution_count": 79,
      "outputs": [
        {
          "output_type": "stream",
          "text": [
            "Epoch 1/50\n",
            "32/32 [==============================] - 3s 91ms/step - loss: 0.8019 - accuracy: 0.5293 - val_loss: 1.1204 - val_accuracy: 0.3352\n",
            "Epoch 2/50\n",
            "32/32 [==============================] - 2s 67ms/step - loss: 0.6839 - accuracy: 0.6128 - val_loss: 0.5150 - val_accuracy: 0.7045\n",
            "Epoch 3/50\n",
            "32/32 [==============================] - 2s 66ms/step - loss: 0.6079 - accuracy: 0.6627 - val_loss: 1.1234 - val_accuracy: 0.3580\n",
            "Epoch 4/50\n",
            "32/32 [==============================] - 2s 66ms/step - loss: 0.5500 - accuracy: 0.7026 - val_loss: 0.6257 - val_accuracy: 0.6307\n",
            "Epoch 5/50\n",
            "32/32 [==============================] - 2s 66ms/step - loss: 0.5424 - accuracy: 0.7146 - val_loss: 0.5831 - val_accuracy: 0.7216\n",
            "Epoch 6/50\n",
            "32/32 [==============================] - 2s 67ms/step - loss: 0.5430 - accuracy: 0.7445 - val_loss: 0.5776 - val_accuracy: 0.6932\n",
            "Epoch 7/50\n",
            "32/32 [==============================] - 2s 68ms/step - loss: 0.4185 - accuracy: 0.8244 - val_loss: 0.4869 - val_accuracy: 0.8068\n",
            "Epoch 8/50\n",
            "32/32 [==============================] - 2s 69ms/step - loss: 0.4135 - accuracy: 0.8144 - val_loss: 0.4288 - val_accuracy: 0.7330\n",
            "Epoch 9/50\n",
            "32/32 [==============================] - 2s 67ms/step - loss: 0.4051 - accuracy: 0.8343 - val_loss: 0.8213 - val_accuracy: 0.5000\n",
            "Epoch 10/50\n",
            "32/32 [==============================] - 2s 68ms/step - loss: 0.3586 - accuracy: 0.8789 - val_loss: 0.3390 - val_accuracy: 0.8636\n",
            "Epoch 11/50\n",
            "32/32 [==============================] - 2s 68ms/step - loss: 0.3744 - accuracy: 0.8403 - val_loss: 0.3383 - val_accuracy: 0.8807\n",
            "Epoch 12/50\n",
            "32/32 [==============================] - 2s 67ms/step - loss: 0.3942 - accuracy: 0.8144 - val_loss: 0.3354 - val_accuracy: 0.8807\n",
            "Epoch 13/50\n",
            "32/32 [==============================] - 2s 66ms/step - loss: 0.3322 - accuracy: 0.8663 - val_loss: 0.3002 - val_accuracy: 0.8807\n",
            "Epoch 14/50\n",
            "32/32 [==============================] - 2s 66ms/step - loss: 0.3595 - accuracy: 0.8463 - val_loss: 0.3487 - val_accuracy: 0.8807\n",
            "Epoch 15/50\n",
            "32/32 [==============================] - 2s 66ms/step - loss: 0.3047 - accuracy: 0.8842 - val_loss: 1.0189 - val_accuracy: 0.5057\n",
            "Epoch 16/50\n",
            "32/32 [==============================] - 2s 66ms/step - loss: 0.2650 - accuracy: 0.9042 - val_loss: 0.3967 - val_accuracy: 0.8466\n",
            "Epoch 17/50\n",
            "32/32 [==============================] - 2s 66ms/step - loss: 0.2621 - accuracy: 0.9002 - val_loss: 0.2786 - val_accuracy: 0.9205\n",
            "Epoch 18/50\n",
            "32/32 [==============================] - 2s 66ms/step - loss: 0.2604 - accuracy: 0.9042 - val_loss: 0.2947 - val_accuracy: 0.9148\n",
            "Epoch 19/50\n",
            "32/32 [==============================] - 2s 68ms/step - loss: 0.2758 - accuracy: 0.9022 - val_loss: 0.2978 - val_accuracy: 0.8750\n",
            "Epoch 20/50\n",
            "32/32 [==============================] - 2s 65ms/step - loss: 0.3139 - accuracy: 0.8623 - val_loss: 0.3810 - val_accuracy: 0.8352\n",
            "Epoch 21/50\n",
            "32/32 [==============================] - 2s 67ms/step - loss: 0.2942 - accuracy: 0.8882 - val_loss: 0.2907 - val_accuracy: 0.8750\n",
            "Epoch 22/50\n",
            "32/32 [==============================] - 2s 69ms/step - loss: 0.2674 - accuracy: 0.8902 - val_loss: 0.5057 - val_accuracy: 0.7841\n",
            "Epoch 23/50\n",
            "32/32 [==============================] - 2s 68ms/step - loss: 0.2588 - accuracy: 0.9002 - val_loss: 0.6547 - val_accuracy: 0.7102\n",
            "Epoch 24/50\n",
            "32/32 [==============================] - 2s 67ms/step - loss: 0.3065 - accuracy: 0.8623 - val_loss: 0.2425 - val_accuracy: 0.9148\n",
            "Epoch 25/50\n",
            "32/32 [==============================] - 2s 69ms/step - loss: 0.2487 - accuracy: 0.9042 - val_loss: 0.4163 - val_accuracy: 0.8125\n",
            "Epoch 26/50\n",
            "32/32 [==============================] - 2s 69ms/step - loss: 0.1983 - accuracy: 0.9281 - val_loss: 0.3510 - val_accuracy: 0.8409\n",
            "Epoch 27/50\n",
            "32/32 [==============================] - 2s 65ms/step - loss: 0.1929 - accuracy: 0.9301 - val_loss: 0.2821 - val_accuracy: 0.8693\n",
            "Epoch 28/50\n",
            "32/32 [==============================] - 2s 64ms/step - loss: 0.2361 - accuracy: 0.9142 - val_loss: 0.5919 - val_accuracy: 0.7557\n",
            "Epoch 29/50\n",
            "32/32 [==============================] - 2s 65ms/step - loss: 0.1598 - accuracy: 0.9501 - val_loss: 0.2237 - val_accuracy: 0.9489\n",
            "Epoch 30/50\n",
            "32/32 [==============================] - 2s 64ms/step - loss: 0.2260 - accuracy: 0.9182 - val_loss: 0.2647 - val_accuracy: 0.8920\n",
            "Epoch 31/50\n",
            "32/32 [==============================] - 2s 67ms/step - loss: 0.1693 - accuracy: 0.9321 - val_loss: 0.2872 - val_accuracy: 0.8807\n",
            "Epoch 32/50\n",
            "32/32 [==============================] - 2s 66ms/step - loss: 0.1733 - accuracy: 0.9261 - val_loss: 0.2172 - val_accuracy: 0.9432\n",
            "Epoch 33/50\n",
            "32/32 [==============================] - 2s 64ms/step - loss: 0.2938 - accuracy: 0.8882 - val_loss: 0.2450 - val_accuracy: 0.9148\n",
            "Epoch 34/50\n",
            "32/32 [==============================] - 2s 64ms/step - loss: 0.1668 - accuracy: 0.9441 - val_loss: 0.2375 - val_accuracy: 0.9261\n",
            "Epoch 35/50\n",
            "32/32 [==============================] - 2s 66ms/step - loss: 0.1588 - accuracy: 0.9401 - val_loss: 0.3203 - val_accuracy: 0.8580\n",
            "Epoch 36/50\n",
            "32/32 [==============================] - 2s 65ms/step - loss: 0.1878 - accuracy: 0.9162 - val_loss: 0.2068 - val_accuracy: 0.9375\n",
            "Epoch 37/50\n",
            "32/32 [==============================] - 2s 66ms/step - loss: 0.1734 - accuracy: 0.9301 - val_loss: 0.3306 - val_accuracy: 0.8580\n",
            "Epoch 38/50\n",
            "32/32 [==============================] - 2s 66ms/step - loss: 0.1581 - accuracy: 0.9381 - val_loss: 0.2273 - val_accuracy: 0.9205\n",
            "Epoch 39/50\n",
            "32/32 [==============================] - 2s 66ms/step - loss: 0.1714 - accuracy: 0.9401 - val_loss: 0.1950 - val_accuracy: 0.9489\n",
            "Epoch 40/50\n",
            "32/32 [==============================] - 2s 65ms/step - loss: 0.1663 - accuracy: 0.9461 - val_loss: 0.4208 - val_accuracy: 0.8239\n",
            "Epoch 41/50\n",
            "32/32 [==============================] - 2s 65ms/step - loss: 0.2415 - accuracy: 0.8982 - val_loss: 0.2370 - val_accuracy: 0.8977\n",
            "Epoch 42/50\n",
            "32/32 [==============================] - 2s 65ms/step - loss: 0.1388 - accuracy: 0.9441 - val_loss: 0.6132 - val_accuracy: 0.7500\n",
            "Epoch 43/50\n",
            "32/32 [==============================] - 2s 65ms/step - loss: 0.1349 - accuracy: 0.9521 - val_loss: 0.2322 - val_accuracy: 0.9091\n",
            "Epoch 44/50\n",
            "32/32 [==============================] - 2s 64ms/step - loss: 0.1242 - accuracy: 0.9551 - val_loss: 0.4586 - val_accuracy: 0.8239\n",
            "Epoch 45/50\n",
            "32/32 [==============================] - 2s 66ms/step - loss: 0.2164 - accuracy: 0.9062 - val_loss: 0.3449 - val_accuracy: 0.8580\n",
            "Epoch 46/50\n",
            "32/32 [==============================] - 2s 67ms/step - loss: 0.1388 - accuracy: 0.9441 - val_loss: 0.2401 - val_accuracy: 0.9091\n",
            "Epoch 47/50\n",
            "32/32 [==============================] - 2s 65ms/step - loss: 0.1124 - accuracy: 0.9581 - val_loss: 0.2223 - val_accuracy: 0.9375\n",
            "Epoch 48/50\n",
            "32/32 [==============================] - 2s 66ms/step - loss: 0.1173 - accuracy: 0.9621 - val_loss: 0.2255 - val_accuracy: 0.9205\n",
            "Epoch 49/50\n",
            "32/32 [==============================] - 2s 65ms/step - loss: 0.2591 - accuracy: 0.9162 - val_loss: 0.2045 - val_accuracy: 0.9375\n",
            "Epoch 50/50\n",
            "32/32 [==============================] - 2s 65ms/step - loss: 0.1212 - accuracy: 0.9481 - val_loss: 0.3132 - val_accuracy: 0.8750\n"
          ],
          "name": "stdout"
        }
      ]
    },
    {
      "cell_type": "code",
      "metadata": {
        "id": "qXrzfUVqVBYd",
        "colab_type": "code",
        "colab": {
          "base_uri": "https://localhost:8080/",
          "height": 51
        },
        "outputId": "1507999a-b223-44b4-9884-e2995a31d033"
      },
      "source": [
        "val_data_gen[0][1]"
      ],
      "execution_count": 64,
      "outputs": [
        {
          "output_type": "execute_result",
          "data": {
            "text/plain": [
              "array([1., 0., 1., 1., 0., 0., 1., 1., 1., 1., 0., 0., 1., 0., 0., 1.],\n",
              "      dtype=float32)"
            ]
          },
          "metadata": {
            "tags": []
          },
          "execution_count": 64
        }
      ]
    },
    {
      "cell_type": "code",
      "metadata": {
        "id": "-XT5EvStVHxj",
        "colab_type": "code",
        "colab": {}
      },
      "source": [
        "### Get val image and label arrays\n",
        "\n",
        "val_images = []\n",
        "val_labels = []\n",
        "for i in range(len(val_data_gen)):\n",
        "  img = val_data_gen[i][0]\n",
        "  val_images.append(img)\n",
        "  lbl = val_data_gen[i][1]\n",
        "  val_labels.append(lbl)\n",
        "  \n",
        "val_images = np.array(val_images)\n",
        "val_labels = np.array(val_labels)\n",
        "\n",
        "### Get train image and label arrays\n",
        "\n",
        "train_images = []\n",
        "train_labels = []\n",
        "for i in range(len(train_data_gen)):\n",
        "  img = train_data_gen[i][0]\n",
        "  train_images.append(img)\n",
        "  lbl = train_data_gen[i][1]\n",
        "  train_labels.append(lbl)\n",
        "\n",
        "# train_images = np.array(train_images)\n",
        "# train_labels = np.array(train_labels)"
      ],
      "execution_count": 120,
      "outputs": []
    },
    {
      "cell_type": "code",
      "metadata": {
        "id": "3xNwzwibOluJ",
        "colab_type": "code",
        "colab": {}
      },
      "source": [
        "# Evaluate Model\n",
        "\n",
        "test_loss, test_acc = model.evaluate(val_images, val_labels, verbose=2)\n",
        "\n",
        "### Generates the following error: \n",
        "\n",
        "# ValueError: Failed to convert a NumPy array to a Tensor \n",
        "# (Unsupported object type numpy.ndarray)."
      ],
      "execution_count": null,
      "outputs": []
    },
    {
      "cell_type": "markdown",
      "metadata": {
        "id": "auqAVyPnVNDC",
        "colab_type": "text"
      },
      "source": [
        "# Custom CNN Model\n",
        "\n",
        "In this step, write and train your own convolutional neural network using Keras. You can use any architecture that suits you as long as it has at least one convolutional and one pooling layer at the beginning of the network - you can add more if you want. "
      ]
    },
    {
      "cell_type": "code",
      "metadata": {
        "id": "X0vwHRcgh_Dl",
        "colab_type": "code",
        "colab": {}
      },
      "source": [
        "# Import statements\n",
        "\n",
        "from tensorflow.keras.models import Sequential\n",
        "from tensorflow.keras.layers import Dense, Conv2D, MaxPooling2D, Flatten"
      ],
      "execution_count": 80,
      "outputs": []
    },
    {
      "cell_type": "code",
      "metadata": {
        "id": "1d6Hv4HyiyZ3",
        "colab_type": "code",
        "colab": {
          "base_uri": "https://localhost:8080/",
          "height": 34
        },
        "outputId": "6b4e2fdb-1575-4a7f-a43e-701c7a5d2cc9"
      },
      "source": [
        "train_images[0][0].shape"
      ],
      "execution_count": 106,
      "outputs": [
        {
          "output_type": "execute_result",
          "data": {
            "text/plain": [
              "(224, 224, 3)"
            ]
          },
          "metadata": {
            "tags": []
          },
          "execution_count": 106
        }
      ]
    },
    {
      "cell_type": "code",
      "metadata": {
        "id": "ESds65thp9f6",
        "colab_type": "code",
        "colab": {
          "base_uri": "https://localhost:8080/",
          "height": 34
        },
        "outputId": "d01a86e2-44d8-4e44-ae6b-d5487ce16fc9"
      },
      "source": [
        "train_images[0].shape"
      ],
      "execution_count": 121,
      "outputs": [
        {
          "output_type": "execute_result",
          "data": {
            "text/plain": [
              "(16, 224, 224, 3)"
            ]
          },
          "metadata": {
            "tags": []
          },
          "execution_count": 121
        }
      ]
    },
    {
      "cell_type": "code",
      "metadata": {
        "id": "OJo3bmVYpxVj",
        "colab_type": "code",
        "colab": {}
      },
      "source": [
        "# trn_img = []\n",
        "# for i in range(len(train_images)):\n",
        "#   img = train_images[i][i]\n",
        "#   trn_img.append(img)\n",
        "\n",
        "# trn_img.shape"
      ],
      "execution_count": null,
      "outputs": []
    },
    {
      "cell_type": "code",
      "metadata": {
        "id": "slGeN2ZSVNDD",
        "colab_type": "code",
        "colab": {
          "base_uri": "https://localhost:8080/",
          "height": 425
        },
        "outputId": "bc311eac-387a-46a2-baa7-92730f7ff022"
      },
      "source": [
        "# Define the Model\n",
        "\n",
        "model = Sequential()\n",
        "\n",
        "# Convolve \n",
        "model.add(Conv2D(224, (3,3), activation='relu', input_shape=(224, 224, 3)))\n",
        "\n",
        "# Pooling layer\n",
        "model.add(MaxPooling2D((2,2)))\n",
        "\n",
        "# C2\n",
        "model.add(Conv2D(32, (3,3), activation='relu'))\n",
        "\n",
        "# P2\n",
        "model.add(MaxPooling2D((2,2)))\n",
        "\n",
        "#C3\n",
        "model.add(Conv2D(32, (3,3), activation='relu'))\n",
        "model.add(Flatten())\n",
        "\n",
        "model.add(Dense(32, activation='relu'))\n",
        "\n",
        "# Binary classification\n",
        "model.add(Dense(1, activation='sigmoid'))\n",
        "\n",
        "model.summary()"
      ],
      "execution_count": 137,
      "outputs": [
        {
          "output_type": "stream",
          "text": [
            "Model: \"sequential_3\"\n",
            "_________________________________________________________________\n",
            "Layer (type)                 Output Shape              Param #   \n",
            "=================================================================\n",
            "conv2d_7 (Conv2D)            (None, 222, 222, 224)     6272      \n",
            "_________________________________________________________________\n",
            "max_pooling2d_5 (MaxPooling2 (None, 111, 111, 224)     0         \n",
            "_________________________________________________________________\n",
            "conv2d_8 (Conv2D)            (None, 109, 109, 32)      64544     \n",
            "_________________________________________________________________\n",
            "max_pooling2d_6 (MaxPooling2 (None, 54, 54, 32)        0         \n",
            "_________________________________________________________________\n",
            "conv2d_9 (Conv2D)            (None, 52, 52, 32)        9248      \n",
            "_________________________________________________________________\n",
            "flatten_2 (Flatten)          (None, 86528)             0         \n",
            "_________________________________________________________________\n",
            "dense_14 (Dense)             (None, 32)                2768928   \n",
            "_________________________________________________________________\n",
            "dense_15 (Dense)             (None, 1)                 33        \n",
            "=================================================================\n",
            "Total params: 2,849,025\n",
            "Trainable params: 2,849,025\n",
            "Non-trainable params: 0\n",
            "_________________________________________________________________\n"
          ],
          "name": "stdout"
        }
      ]
    },
    {
      "cell_type": "code",
      "metadata": {
        "id": "2JuUKDllVNDF",
        "colab_type": "code",
        "colab": {}
      },
      "source": [
        "# Compile Model\n",
        "\n",
        "model.compile(optimizer='nadam',\n",
        "              loss='binary_crossentropy',\n",
        "              metrics=['accuracy'])"
      ],
      "execution_count": 138,
      "outputs": []
    },
    {
      "cell_type": "code",
      "metadata": {
        "id": "41SkWtpRVNDI",
        "colab_type": "code",
        "colab": {
          "base_uri": "https://localhost:8080/",
          "height": 241
        },
        "outputId": "51a93ae9-0930-40be-bd9a-db98cbd89b46"
      },
      "source": [
        "# Fit Model\n",
        "\n",
        "# model.fit(\n",
        "#     train_data_gen,\n",
        "#     steps_per_epoch=total_train // batch_size,\n",
        "#     epochs=epochs,\n",
        "#     validation_data=val_data_gen,\n",
        "#     validation_steps=total_val // batch_size\n",
        "# )\n",
        "\n",
        "from tensorflow.keras.callbacks import EarlyStopping\n",
        "stop = EarlyStopping(monitor='val_accuracy', min_delta=0.01, patience=3)\n",
        "\n",
        "hist = model.fit(\n",
        "    train_data_gen,\n",
        "    steps_per_epoch=total_train // batch_size,\n",
        "    epochs=epochs,\n",
        "    validation_data=val_data_gen,\n",
        "    validation_steps=total_val // batch_size,\n",
        "    callbacks=[stop]\n",
        ")"
      ],
      "execution_count": 131,
      "outputs": [
        {
          "output_type": "stream",
          "text": [
            "Epoch 1/50\n",
            "32/32 [==============================] - 2s 72ms/step - loss: 0.9077 - accuracy: 0.6627 - val_loss: 0.2658 - val_accuracy: 0.9148\n",
            "Epoch 2/50\n",
            "32/32 [==============================] - 2s 70ms/step - loss: 0.3198 - accuracy: 0.8882 - val_loss: 0.2049 - val_accuracy: 0.9318\n",
            "Epoch 3/50\n",
            "32/32 [==============================] - 2s 68ms/step - loss: 0.2466 - accuracy: 0.8802 - val_loss: 0.1726 - val_accuracy: 0.9432\n",
            "Epoch 4/50\n",
            "32/32 [==============================] - 2s 70ms/step - loss: 0.2046 - accuracy: 0.9242 - val_loss: 0.1940 - val_accuracy: 0.9375\n",
            "Epoch 5/50\n",
            "32/32 [==============================] - 2s 69ms/step - loss: 0.1725 - accuracy: 0.9381 - val_loss: 0.1543 - val_accuracy: 0.9375\n",
            "Epoch 6/50\n",
            "32/32 [==============================] - 2s 69ms/step - loss: 0.1355 - accuracy: 0.9361 - val_loss: 0.1371 - val_accuracy: 0.9318\n"
          ],
          "name": "stdout"
        }
      ]
    },
    {
      "cell_type": "code",
      "metadata": {
        "id": "l3tzpaD0wTbK",
        "colab_type": "code",
        "colab": {
          "base_uri": "https://localhost:8080/",
          "height": 300
        },
        "outputId": "845f7ac7-f6f4-43a1-9991-f1b09b2c865d"
      },
      "source": [
        "### Examine  model\n",
        "import matplotlib.pyplot as plt\n",
        "\n",
        "train_loss = hist.history['loss']\n",
        "test_loss = hist.history['val_loss']\n",
        "\n",
        "epoch_count = range(1, len(train_loss) + 1)\n",
        "\n",
        "plt.plot(epoch_count, train_loss, 'g--')\n",
        "plt.plot(epoch_count, test_loss, 'r-')\n",
        "plt.legend(['Train Loss', 'Test Loss'])\n",
        "plt.xlabel('Epoch')\n",
        "plt.ylabel('Loss')\n",
        "plt.title('MODEL LOSS', fontsize=20, fontweight='bold', color='red')\n",
        "\n",
        "plt.show();"
      ],
      "execution_count": 133,
      "outputs": [
        {
          "output_type": "display_data",
          "data": {
            "image/png": "[encoded data removed]",
            "text/plain": [
              "<Figure size 432x288 with 1 Axes>"
            ]
          },
          "metadata": {
            "tags": [],
            "needs_background": "light"
          }
        }
      ]
    },
    {
      "cell_type": "code",
      "metadata": {
        "id": "kcN6-uAxw_kh",
        "colab_type": "code",
        "colab": {
          "base_uri": "https://localhost:8080/",
          "height": 300
        },
        "outputId": "3791f09a-3a74-4351-dd10-e163f1c5f14c"
      },
      "source": [
        "train_acc = hist.history['accuracy']\n",
        "test_acc = hist.history['val_accuracy']\n",
        "\n",
        "epoch_count = range(1, len(train_loss) + 1)\n",
        "\n",
        "plt.plot(epoch_count, train_acc, 'g--')\n",
        "plt.plot(epoch_count, test_acc, 'r-')\n",
        "plt.legend(['Train Accuracy', 'Test Accuracy'])\n",
        "plt.xlabel('Epoch')\n",
        "plt.ylabel('MSE')\n",
        "plt.title('MODEL ACCURACY', fontsize=20, fontweight='bold', color='red')\n",
        "\n",
        "\n",
        "plt.show();"
      ],
      "execution_count": 134,
      "outputs": [
        {
          "output_type": "display_data",
          "data": {
            "image/png": "[encoded data removed]",
            "text/plain": [
              "<Figure size 432x288 with 1 Axes>"
            ]
          },
          "metadata": {
            "tags": [],
            "needs_background": "light"
          }
        }
      ]
    },
    {
      "cell_type": "markdown",
      "metadata": {
        "id": "hYGEAieGVNDK",
        "colab_type": "text"
      },
      "source": [
        "# Custom CNN Model with Image Manipulations\n",
        "\n",
        "To simulate an increase in a sample of image, you can apply image manipulation techniques: cropping, rotation, stretching, etc. Luckily Keras has some handy functions for us to apply these techniques to our mountain and forest example. Simply, you should be able to modify our image generator for the problem. Check out these resources to help you get started: \n",
        "\n",
        "1. [Keras `ImageGenerator` Class](https://keras.io/preprocessing/image/#imagedatagenerator-class)\n",
        "2. [Building a powerful image classifier with very little data](https://blog.keras.io/building-powerful-image-classification-models-using-very-little-data.html)\n",
        " "
      ]
    },
    {
      "cell_type": "code",
      "metadata": {
        "id": "Uf59UbbBVNDL",
        "colab_type": "code",
        "colab": {}
      },
      "source": [
        "# Specify different params in imagedatagenerators"
      ],
      "execution_count": null,
      "outputs": []
    },
    {
      "cell_type": "code",
      "metadata": {
        "id": "JpwSTLTF1byE",
        "colab_type": "code",
        "colab": {
          "base_uri": "https://localhost:8080/",
          "height": 51
        },
        "outputId": "6fb4da75-e518-4a37-deb8-b834d2f8067a"
      },
      "source": [
        "batch_size = 16\n",
        "epochs = 50\n",
        "IMG_HEIGHT = 224\n",
        "IMG_WIDTH = 224\n",
        "\n",
        "from tensorflow.keras.preprocessing.image import ImageDataGenerator\n",
        "\n",
        "# Generate train data with addt'l params for zoom / stretch / rotate\n",
        "train_image_gen = ImageDataGenerator(rescale=1./255,\n",
        "                                           zoom_range=0.2,\n",
        "                                           height_shift_range=0.2,\n",
        "                                           width_shift_range=0.2,\n",
        "                                           rotation_range=10)\n",
        "\n",
        "# Generate val data with same params as train\n",
        "validation_image_gen = ImageDataGenerator(rescale=1./255,\n",
        "                                                zoom_range=0.2,\n",
        "                                                height_shift_range=0.2,\n",
        "                                                width_shift_range=0.2,\n",
        "                                                rotation_range=10)\n",
        "\n",
        "train_data_g = train_image_gen.flow_from_directory(batch_size=batch_size,\n",
        "                                                           directory=train_dir,\n",
        "                                                           shuffle=True,\n",
        "                                                           target_size=(IMG_HEIGHT, IMG_WIDTH),\n",
        "                                                           class_mode='binary')\n",
        "\n",
        "val_data_g = validation_image_gen.flow_from_directory(batch_size=batch_size,\n",
        "                                                              directory=validation_dir,\n",
        "                                                              target_size=(IMG_HEIGHT, IMG_WIDTH),\n",
        "                                                              class_mode='binary')"
      ],
      "execution_count": 135,
      "outputs": [
        {
          "output_type": "stream",
          "text": [
            "Found 533 images belonging to 2 classes.\n",
            "Found 195 images belonging to 2 classes.\n"
          ],
          "name": "stdout"
        }
      ]
    },
    {
      "cell_type": "code",
      "metadata": {
        "id": "XRp8SRlr38pw",
        "colab_type": "code",
        "colab": {
          "base_uri": "https://localhost:8080/",
          "height": 289
        },
        "outputId": "1ccf4edc-85cf-4283-9cef-43dbd0d8d303"
      },
      "source": [
        "# Fit model\n",
        "\n",
        "hist2 = model.fit(\n",
        "    train_data_gen,\n",
        "    steps_per_epoch=total_train // batch_size,\n",
        "    epochs=epochs,\n",
        "    validation_data=val_data_gen,\n",
        "    validation_steps=total_val // batch_size,\n",
        "    callbacks=[stop]\n",
        ")"
      ],
      "execution_count": 139,
      "outputs": [
        {
          "output_type": "stream",
          "text": [
            "Epoch 1/50\n",
            "32/32 [==============================] - 2s 71ms/step - loss: 0.7052 - accuracy: 0.7385 - val_loss: 0.4258 - val_accuracy: 0.8693\n",
            "Epoch 2/50\n",
            "32/32 [==============================] - 2s 71ms/step - loss: 0.3272 - accuracy: 0.8603 - val_loss: 0.3608 - val_accuracy: 0.8523\n",
            "Epoch 3/50\n",
            "32/32 [==============================] - 2s 71ms/step - loss: 0.2077 - accuracy: 0.9182 - val_loss: 0.1856 - val_accuracy: 0.9148\n",
            "Epoch 4/50\n",
            "32/32 [==============================] - 2s 73ms/step - loss: 0.2005 - accuracy: 0.9180 - val_loss: 0.2311 - val_accuracy: 0.9034\n",
            "Epoch 5/50\n",
            "32/32 [==============================] - 2s 73ms/step - loss: 0.2009 - accuracy: 0.9281 - val_loss: 0.1992 - val_accuracy: 0.9261\n",
            "Epoch 6/50\n",
            "32/32 [==============================] - 2s 75ms/step - loss: 0.1649 - accuracy: 0.9481 - val_loss: 0.2566 - val_accuracy: 0.8864\n",
            "Epoch 7/50\n",
            "32/32 [==============================] - 2s 75ms/step - loss: 0.4210 - accuracy: 0.8782 - val_loss: 0.2179 - val_accuracy: 0.9261\n",
            "Epoch 8/50\n",
            "32/32 [==============================] - 2s 71ms/step - loss: 0.2595 - accuracy: 0.8962 - val_loss: 0.1817 - val_accuracy: 0.9261\n"
          ],
          "name": "stdout"
        }
      ]
    },
    {
      "cell_type": "code",
      "metadata": {
        "id": "NsbXWkxz4sgh",
        "colab_type": "code",
        "colab": {
          "base_uri": "https://localhost:8080/",
          "height": 300
        },
        "outputId": "04c671a5-2ed9-4879-e7e8-6ac3ec367b6c"
      },
      "source": [
        "### Examine  model\n",
        "import matplotlib.pyplot as plt\n",
        "\n",
        "train_loss = hist2.history['loss']\n",
        "test_loss = hist2.history['val_loss']\n",
        "\n",
        "epoch_count = range(1, len(train_loss) + 1)\n",
        "\n",
        "plt.plot(epoch_count, train_loss, 'g--')\n",
        "plt.plot(epoch_count, test_loss, 'r-')\n",
        "plt.legend(['Train Loss', 'Test Loss'])\n",
        "plt.xlabel('Epoch')\n",
        "plt.ylabel('Loss')\n",
        "plt.title('MODEL (WITH IMG MANIPULATION) LOSS', fontsize=20, fontweight='bold', color='red')\n",
        "\n",
        "plt.show();"
      ],
      "execution_count": 142,
      "outputs": [
        {
          "output_type": "display_data",
          "data": {
            "image/png": "[encoded data removed]",
            "text/plain": [
              "<Figure size 432x288 with 1 Axes>"
            ]
          },
          "metadata": {
            "tags": [],
            "needs_background": "light"
          }
        }
      ]
    },
    {
      "cell_type": "code",
      "metadata": {
        "id": "iIZWoh6K463f",
        "colab_type": "code",
        "colab": {
          "base_uri": "https://localhost:8080/",
          "height": 300
        },
        "outputId": "7bfb3dda-e41e-4c09-ad05-6f89179b1a73"
      },
      "source": [
        "train_acc = hist2.history['accuracy']\n",
        "test_acc = hist2.history['val_accuracy']\n",
        "\n",
        "epoch_count = range(1, len(train_loss) + 1)\n",
        "\n",
        "plt.plot(epoch_count, train_acc, 'g--')\n",
        "plt.plot(epoch_count, test_acc, 'r-')\n",
        "plt.legend(['Train Accuracy', 'Test Accuracy'])\n",
        "plt.xlabel('Epoch')\n",
        "plt.ylabel('MSE')\n",
        "plt.title('MODEL (WITH IMAGE MANIPULATION) ACCURACY', fontsize=20, fontweight='bold', color='red')\n",
        "\n",
        "\n",
        "plt.show();"
      ],
      "execution_count": 143,
      "outputs": [
        {
          "output_type": "display_data",
          "data": {
            "image/png": "[encoded data removed]",
            "text/plain": [
              "<Figure size 432x288 with 1 Axes>"
            ]
          },
          "metadata": {
            "tags": [],
            "needs_background": "light"
          }
        }
      ]
    },
    {
      "cell_type": "markdown",
      "metadata": {
        "colab_type": "text",
        "id": "uT3UV3gap9H6"
      },
      "source": [
        "# Resources and Stretch Goals\n",
        "\n",
        "Stretch goals\n",
        "- Enhance your code to use classes/functions and accept terms to search and classes to look for in recognizing the downloaded images (e.g. download images of parties, recognize all that contain balloons)\n",
        "- Check out [other available pretrained networks](https://tfhub.dev), try some and compare\n",
        "- Image recognition/classification is somewhat solved, but *relationships* between entities and describing an image is not - check out some of the extended resources (e.g. [Visual Genome](https://visualgenome.org/)) on the topic\n",
        "- Transfer learning - using images you source yourself, [retrain a classifier](https://www.tensorflow.org/hub/tutorials/image_retraining) with a new category\n",
        "- (Not CNN related) Use [piexif](https://pypi.org/project/piexif/) to check out the metadata of images passed in to your system - see if they're from a national park! (Note - many images lack GPS metadata, so this won't work in most cases, but still cool)\n",
        "\n",
        "Resources\n",
        "- [Deep Residual Learning for Image Recognition](https://arxiv.org/abs/1512.03385) - influential paper (introduced ResNet)\n",
        "- [YOLO: Real-Time Object Detection](https://pjreddie.com/darknet/yolo/) - an influential convolution based object detection system, focused on inference speed (for applications to e.g. self driving vehicles)\n",
        "- [R-CNN, Fast R-CNN, Faster R-CNN, YOLO](https://towardsdatascience.com/r-cnn-fast-r-cnn-faster-r-cnn-yolo-object-detection-algorithms-36d53571365e) - comparison of object detection systems\n",
        "- [Common Objects in Context](http://cocodataset.org/) - a large-scale object detection, segmentation, and captioning dataset\n",
        "- [Visual Genome](https://visualgenome.org/) - a dataset, a knowledge base, an ongoing effort to connect structured image concepts to language"
      ]
    }
  ]
}