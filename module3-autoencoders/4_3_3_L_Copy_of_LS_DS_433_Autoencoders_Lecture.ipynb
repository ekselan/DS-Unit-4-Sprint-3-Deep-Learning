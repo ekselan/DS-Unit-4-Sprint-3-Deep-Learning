{
  "nbformat": 4,
  "nbformat_minor": 0,
  "metadata": {
    "kernelspec": {
      "name": "python3",
      "display_name": "Python 3"
    },
    "colab": {
      "name": "4_3_3_L_Copy of LS_DS_433_Autoencoders_Lecture.ipynb",
      "provenance": [],
      "collapsed_sections": []
    },
    "accelerator": "GPU"
  },
  "cells": [
    {
      "cell_type": "markdown",
      "metadata": {
        "id": "kKIlxwLLCFaT",
        "colab_type": "text"
      },
      "source": [
        "Lambda School Data Science\n",
        "\n",
        "*Unit 4, Sprint 3, Module 3*\n",
        "\n",
        "---"
      ]
    },
    {
      "cell_type": "markdown",
      "metadata": {
        "id": "rcSLBMVQCFaV",
        "colab_type": "text"
      },
      "source": [
        "# Autoencoders\n",
        "\n",
        "> An autoencoder is a type of artificial neural network used to learn efficient data codings in an unsupervised manner.[1][2] The aim of an autoencoder is to learn a representation (encoding) for a set of data, typically for dimensionality reduction, by training the network to ignore signal “noise”. Along with the reduction side, a reconstructing side is learnt, where the autoencoder tries to generate from the reduced encoding a representation as close as possible to its original input, hence its name. "
      ]
    },
    {
      "cell_type": "markdown",
      "metadata": {
        "id": "Uxd_Ae9dCFaV",
        "colab_type": "text"
      },
      "source": [
        "## Learning Objectives\n",
        "*At the end of the lecture you should be to*:\n",
        "* <a href=\"#p1\">Part 1</a>: Describe the componenets of an autoencoder\n",
        "* <a href=\"#p2\">Part 2</a>: Train an autoencoder\n",
        "* <a href=\"#p3\">Part 3</a>: Apply an autoenocder to a basic information retrieval problem\n",
        "\n",
        "__Problem:__ Is it possible to automatically represent an image as a fixed-sized vector even if it isn’t labeled?\n",
        "\n",
        "__Solution:__ Use an autoencoder\n",
        "\n",
        "Why do we need to represent an image as a fixed-sized vector do you ask? \n",
        "\n",
        "* __Information Retrieval__\n",
        "    - [Reverse Image Search](https://en.wikipedia.org/wiki/Reverse_image_search)\n",
        "    - [Recommendation Systems - Content Based Filtering](https://en.wikipedia.org/wiki/Recommender_system#Content-based_filtering)\n",
        "* __Dimensionality Reduction__\n",
        "    - [Feature Extraction](https://www.kaggle.com/c/vsb-power-line-fault-detection/discussion/78285)\n",
        "    - [Manifold Learning](https://en.wikipedia.org/wiki/Nonlinear_dimensionality_reduction)\n",
        "\n",
        "We've already seen *representation learning* when we talked about word embedding modelings during our NLP week. Today we're going to achieve a similiar goal on images using *autoencoders*. An autoencoder is a neural network that is trained to attempt to copy its input to its output. Usually they are restricted in ways that allow them to copy only approximately. The model often learns useful properties of the data, because it is forced to prioritize which aspecs of the input should be copied. The properties of autoencoders have made them an important part of modern generative modeling approaches. Consider autoencoders a special case of feed-forward networks (the kind we've been studying); backpropagation and gradient descent still work. "
      ]
    },
    {
      "cell_type": "markdown",
      "metadata": {
        "id": "TXColPN0CFaW",
        "colab_type": "text"
      },
      "source": [
        "# Autoencoder Architecture (Learn)\n",
        "<a id=\"p1\"></a>"
      ]
    },
    {
      "cell_type": "markdown",
      "metadata": {
        "id": "H932P7soCFaX",
        "colab_type": "text"
      },
      "source": [
        "## Overview\n",
        "\n",
        "The *encoder* compresses the input data and the *decoder* does the reverse to produce the uncompressed version of the data to create a reconstruction of the input as accurately as possible:\n",
        "\n",
        "<img src='https://miro.medium.com/max/1400/1*44eDEuZBEsmG_TCAKRI3Kw@2x.png' width=800/>\n",
        "\n",
        "The learning process gis described simply as minimizing a loss function: \n",
        "$ L(x, g(f(x))) $\n",
        "\n",
        "- $L$ is a loss function penalizing $g(f(x))$ for being dissimiliar from $x$ (such as mean squared error)\n",
        "- $f$ is the encoder function\n",
        "- $g$ is the decoder function"
      ]
    },
    {
      "cell_type": "markdown",
      "metadata": {
        "id": "hWTd3tscCFaX",
        "colab_type": "text"
      },
      "source": [
        "## Follow Along\n",
        "### Extremely Simple Autoencoder"
      ]
    },
    {
      "cell_type": "code",
      "metadata": {
        "id": "rHZHdtH6CFaY",
        "colab_type": "code",
        "colab": {
          "base_uri": "https://localhost:8080/",
          "height": 34
        },
        "outputId": "d69d34ac-57f7-47d1-bfc3-5388a08c04e2"
      },
      "source": [
        "# Colab Only Cell\n",
        "# Remember to Switch to GPU Runtime\n",
        "%tensorflow__version 2.x"
      ],
      "execution_count": 1,
      "outputs": [
        {
          "output_type": "stream",
          "text": [
            "UsageError: Line magic function `%tensorflow__version` not found.\n"
          ],
          "name": "stderr"
        }
      ]
    },
    {
      "cell_type": "code",
      "metadata": {
        "id": "6fhnjV3XCFac",
        "colab_type": "code",
        "colab": {}
      },
      "source": [
        "%load_ext tensorboard"
      ],
      "execution_count": 2,
      "outputs": []
    },
    {
      "cell_type": "code",
      "metadata": {
        "id": "U4qJuAK0CFaf",
        "colab_type": "code",
        "colab": {}
      },
      "source": [
        "from tensorflow.keras.layers import Input, Dense\n",
        "from tensorflow.keras.models import Model\n",
        "from tensorflow.keras.callbacks import EarlyStopping, TensorBoard\n",
        "\n",
        "# this is the size of our encoded representations\n",
        "encoding_dim = 32  # 32 floats -> compression of factor 24.5, assuming the input is 784 floats\n",
        "\n",
        "# this is our input placeholder\n",
        "input_img = Input(shape=(784,)) #> have 784 values in mnist\n",
        "\n",
        "# \"encoded\" is the encoded representation of the input\n",
        "encoded = Dense(encoding_dim, activation='relu')(input_img)\n",
        "# input_img is input to this encoded function\n",
        "\n",
        "# \"decoded\" is the lossy reconstruction of the input\n",
        "decoded = Dense(784, activation=\"sigmoid\")(encoded)\n",
        "# Using sigmoid to normalize output to be between 0 to 1\n",
        "\n",
        "\n",
        "# this model maps an input to its reconstruction\n",
        "autoencoder = Model(input_img, decoded)"
      ],
      "execution_count": 5,
      "outputs": []
    },
    {
      "cell_type": "code",
      "metadata": {
        "id": "TX4ubL64CFai",
        "colab_type": "code",
        "colab": {}
      },
      "source": [
        "# this model maps an input to its encoded representation\n",
        "encoder = Model(input_img, encoded)"
      ],
      "execution_count": 6,
      "outputs": []
    },
    {
      "cell_type": "code",
      "metadata": {
        "id": "muuiiLJPCFal",
        "colab_type": "code",
        "colab": {}
      },
      "source": [
        "# create a placeholder for an encoded (32-dimensional) input\n",
        "\n",
        "# retrieve the last layer of the autoencoder model\n",
        "\n",
        "# create the decoder model\n"
      ],
      "execution_count": null,
      "outputs": []
    },
    {
      "cell_type": "code",
      "metadata": {
        "id": "qkqKJ-K9CFao",
        "colab_type": "code",
        "colab": {}
      },
      "source": [
        "### Compile\n",
        "\n",
        "autoencoder.compile(optimizer='nadam', loss='binary_crossentropy')\n",
        "# Want thr binary crossentropy of each pixel value"
      ],
      "execution_count": 11,
      "outputs": []
    },
    {
      "cell_type": "code",
      "metadata": {
        "id": "CQxNU4vpCFar",
        "colab_type": "code",
        "colab": {
          "base_uri": "https://localhost:8080/",
          "height": 71
        },
        "outputId": "85d664cb-fec5-4150-d348-81c2596bc3cb"
      },
      "source": [
        "### Load mnist data\n",
        "\n",
        "from tensorflow.keras.datasets import mnist\n",
        "import numpy as np\n",
        "(x_train, _), (x_test, _) = mnist.load_data()"
      ],
      "execution_count": 7,
      "outputs": [
        {
          "output_type": "stream",
          "text": [
            "Downloading data from https://storage.googleapis.com/tensorflow/tf-keras-datasets/mnist.npz\n",
            "11493376/11490434 [==============================] - 0s 0us/step\n"
          ],
          "name": "stdout"
        }
      ]
    },
    {
      "cell_type": "code",
      "metadata": {
        "id": "KZUqtDlOCFat",
        "colab_type": "code",
        "colab": {
          "base_uri": "https://localhost:8080/",
          "height": 51
        },
        "outputId": "50d6df65-13bb-4761-c012-b5dc8ad9200a"
      },
      "source": [
        "### Normalize and reshape the data\n",
        "\n",
        "x_train = x_train.astype('float32') / 255.\n",
        "x_test = x_test.astype('float32') / 255.\n",
        "x_train = x_train.reshape((len(x_train), np.prod(x_train.shape[1:])))\n",
        "x_test = x_test.reshape((len(x_test), np.prod(x_test.shape[1:])))\n",
        "print(x_train.shape)\n",
        "print(x_test.shape)"
      ],
      "execution_count": 8,
      "outputs": [
        {
          "output_type": "stream",
          "text": [
            "(60000, 784)\n",
            "(10000, 784)\n"
          ],
          "name": "stdout"
        }
      ]
    },
    {
      "cell_type": "code",
      "metadata": {
        "id": "x5GXOtp5CFaw",
        "colab_type": "code",
        "colab": {
          "base_uri": "https://localhost:8080/",
          "height": 1000
        },
        "outputId": "935d878f-16bf-4d94-ad3e-67556d5d0af1"
      },
      "source": [
        "import os\n",
        "\n",
        "# stop = EarlyStopping(monitor=..., min_delta=0.001, patience=2)\n",
        "\n",
        "# logdir = os.path.join(\"logs\", datetime.datetime.now().strftime(\"%Y%m%d-%H%M%S\"))\n",
        "# tensorboard = Tensorboard(log_dir=logdir)\n",
        "\n",
        "# Using x_train in both places because we are\n",
        "autoencoder.fit(x_train, x_train,\n",
        "                epochs=30,\n",
        "                batch_size=64,\n",
        "                shuffle=True,\n",
        "                validation_data=(x_test, x_test),\n",
        "                verbose = True)"
      ],
      "execution_count": 12,
      "outputs": [
        {
          "output_type": "stream",
          "text": [
            "Epoch 1/30\n",
            "938/938 [==============================] - 4s 4ms/step - loss: 0.1897 - val_loss: 0.1313\n",
            "Epoch 2/30\n",
            "938/938 [==============================] - 4s 4ms/step - loss: 0.1180 - val_loss: 0.1070\n",
            "Epoch 3/30\n",
            "938/938 [==============================] - 4s 4ms/step - loss: 0.1029 - val_loss: 0.0978\n",
            "Epoch 4/30\n",
            "938/938 [==============================] - 4s 4ms/step - loss: 0.0973 - val_loss: 0.0956\n",
            "Epoch 5/30\n",
            "938/938 [==============================] - 4s 4ms/step - loss: 0.0955 - val_loss: 0.0937\n",
            "Epoch 6/30\n",
            "938/938 [==============================] - 4s 4ms/step - loss: 0.0947 - val_loss: 0.0931\n",
            "Epoch 7/30\n",
            "938/938 [==============================] - 4s 4ms/step - loss: 0.0943 - val_loss: 0.0929\n",
            "Epoch 8/30\n",
            "938/938 [==============================] - 4s 4ms/step - loss: 0.0940 - val_loss: 0.0925\n",
            "Epoch 9/30\n",
            "938/938 [==============================] - 4s 4ms/step - loss: 0.0938 - val_loss: 0.0926\n",
            "Epoch 10/30\n",
            "938/938 [==============================] - 4s 4ms/step - loss: 0.0936 - val_loss: 0.0923\n",
            "Epoch 11/30\n",
            "938/938 [==============================] - 4s 4ms/step - loss: 0.0935 - val_loss: 0.0924\n",
            "Epoch 12/30\n",
            "938/938 [==============================] - 4s 4ms/step - loss: 0.0934 - val_loss: 0.0923\n",
            "Epoch 13/30\n",
            "938/938 [==============================] - 4s 4ms/step - loss: 0.0933 - val_loss: 0.0921\n",
            "Epoch 14/30\n",
            "938/938 [==============================] - 4s 4ms/step - loss: 0.0933 - val_loss: 0.0919\n",
            "Epoch 15/30\n",
            "938/938 [==============================] - 4s 4ms/step - loss: 0.0932 - val_loss: 0.0920\n",
            "Epoch 16/30\n",
            "938/938 [==============================] - 4s 4ms/step - loss: 0.0932 - val_loss: 0.0920\n",
            "Epoch 17/30\n",
            "938/938 [==============================] - 4s 4ms/step - loss: 0.0931 - val_loss: 0.0920\n",
            "Epoch 18/30\n",
            "938/938 [==============================] - 4s 4ms/step - loss: 0.0931 - val_loss: 0.0918\n",
            "Epoch 19/30\n",
            "938/938 [==============================] - 4s 4ms/step - loss: 0.0930 - val_loss: 0.0919\n",
            "Epoch 20/30\n",
            "938/938 [==============================] - 4s 4ms/step - loss: 0.0930 - val_loss: 0.0917\n",
            "Epoch 21/30\n",
            "938/938 [==============================] - 4s 4ms/step - loss: 0.0930 - val_loss: 0.0918\n",
            "Epoch 22/30\n",
            "938/938 [==============================] - 4s 4ms/step - loss: 0.0930 - val_loss: 0.0918\n",
            "Epoch 23/30\n",
            "938/938 [==============================] - 4s 4ms/step - loss: 0.0929 - val_loss: 0.0918\n",
            "Epoch 24/30\n",
            "938/938 [==============================] - 4s 4ms/step - loss: 0.0929 - val_loss: 0.0918\n",
            "Epoch 25/30\n",
            "938/938 [==============================] - 4s 4ms/step - loss: 0.0929 - val_loss: 0.0918\n",
            "Epoch 26/30\n",
            "938/938 [==============================] - 4s 4ms/step - loss: 0.0929 - val_loss: 0.0917\n",
            "Epoch 27/30\n",
            "938/938 [==============================] - 4s 4ms/step - loss: 0.0929 - val_loss: 0.0918\n",
            "Epoch 28/30\n",
            "938/938 [==============================] - 4s 4ms/step - loss: 0.0928 - val_loss: 0.0917\n",
            "Epoch 29/30\n",
            "938/938 [==============================] - 4s 4ms/step - loss: 0.0928 - val_loss: 0.0917\n",
            "Epoch 30/30\n",
            "938/938 [==============================] - 4s 4ms/step - loss: 0.0928 - val_loss: 0.0918\n"
          ],
          "name": "stdout"
        },
        {
          "output_type": "execute_result",
          "data": {
            "text/plain": [
              "<tensorflow.python.keras.callbacks.History at 0x7fae0585e470>"
            ]
          },
          "metadata": {
            "tags": []
          },
          "execution_count": 12
        }
      ]
    },
    {
      "cell_type": "code",
      "metadata": {
        "id": "yFDA752GHKC6",
        "colab_type": "code",
        "colab": {
          "base_uri": "https://localhost:8080/",
          "height": 255
        },
        "outputId": "0a69b254-13a7-4e12-b8c3-a6d9350b364f"
      },
      "source": [
        "autoencoder.summary()"
      ],
      "execution_count": 13,
      "outputs": [
        {
          "output_type": "stream",
          "text": [
            "Model: \"model\"\n",
            "_________________________________________________________________\n",
            "Layer (type)                 Output Shape              Param #   \n",
            "=================================================================\n",
            "input_1 (InputLayer)         [(None, 784)]             0         \n",
            "_________________________________________________________________\n",
            "dense (Dense)                (None, 32)                25120     \n",
            "_________________________________________________________________\n",
            "dense_1 (Dense)              (None, 784)               25872     \n",
            "=================================================================\n",
            "Total params: 50,992\n",
            "Trainable params: 50,992\n",
            "Non-trainable params: 0\n",
            "_________________________________________________________________\n"
          ],
          "name": "stdout"
        }
      ]
    },
    {
      "cell_type": "code",
      "metadata": {
        "id": "mpCjUVkPCFay",
        "colab_type": "code",
        "colab": {}
      },
      "source": [
        "tensorboard --log_dir='./logs'"
      ],
      "execution_count": null,
      "outputs": []
    },
    {
      "cell_type": "code",
      "metadata": {
        "id": "BjyLFAhvCFa1",
        "colab_type": "code",
        "colab": {}
      },
      "source": [
        "# encode and decode some digits\n",
        "# note that we take them from the *test* set\n",
        "\n",
        "\n",
        "# Make predictions on test set and visualize the reconstructed vs\n",
        "# original images\n",
        "decoded_imgs = autoencoder.predict(x_test)"
      ],
      "execution_count": 14,
      "outputs": []
    },
    {
      "cell_type": "code",
      "metadata": {
        "id": "lNut2-nICFa3",
        "colab_type": "code",
        "colab": {
          "base_uri": "https://localhost:8080/",
          "height": 161
        },
        "outputId": "1e83a92c-3f5a-4175-e3ce-44d4dbe88015"
      },
      "source": [
        "# use Matplotlib (don't ask)\n",
        "import matplotlib.pyplot as plt\n",
        "\n",
        "n = 10  # how many digits we will display\n",
        "plt.figure(figsize=(20, 4))\n",
        "for i in range(n):\n",
        "    # display original\n",
        "    ax = plt.subplot(2, n, i + 1)\n",
        "    plt.imshow(x_test[i].reshape(28, 28))\n",
        "    plt.gray()\n",
        "    ax.get_xaxis().set_visible(False)\n",
        "    ax.get_yaxis().set_visible(False)\n",
        "\n",
        "    # display reconstruction\n",
        "    ax = plt.subplot(2, n, i + 1 + n)\n",
        "    plt.imshow(decoded_imgs[i].reshape(28, 28))\n",
        "    plt.gray()\n",
        "    ax.get_xaxis().set_visible(False)\n",
        "    ax.get_yaxis().set_visible(False)\n",
        "plt.show()\n",
        "\n",
        "# Top row is the original\n",
        "# Bottom row is the reconstructions"
      ],
      "execution_count": 15,
      "outputs": [
        {
          "output_type": "display_data",
          "data": {
            "image/png": "[encoded data removed]",
            "text/plain": [
              "<Figure size 1440x288 with 20 Axes>"
            ]
          },
          "metadata": {
            "tags": [],
            "needs_background": "light"
          }
        }
      ]
    },
    {
      "cell_type": "code",
      "metadata": {
        "id": "FXeoMvOpIG-C",
        "colab_type": "code",
        "colab": {}
      },
      "source": [
        "# Extract the encoded / compressed predictions\n",
        "\n",
        "encoded_imgs = encoder.predict(x_test)"
      ],
      "execution_count": 16,
      "outputs": []
    },
    {
      "cell_type": "code",
      "metadata": {
        "id": "0E1RouMOIM4g",
        "colab_type": "code",
        "colab": {
          "base_uri": "https://localhost:8080/",
          "height": 170
        },
        "outputId": "e031114e-0397-46e1-dc3e-b1ebdaddd950"
      },
      "source": [
        "# 32 values we compressed to represent an image\n",
        "\n",
        "encoded_imgs[0]"
      ],
      "execution_count": 17,
      "outputs": [
        {
          "output_type": "execute_result",
          "data": {
            "text/plain": [
              "array([3.26012182e+00, 8.87422562e+00, 5.61425018e+00, 1.07183905e+01,\n",
              "       7.48811245e+00, 3.75082588e+00, 9.91033268e+00, 7.24919081e+00,\n",
              "       1.30667095e+01, 3.68575764e+00, 2.65579009e+00, 7.04854107e+00,\n",
              "       7.39751148e+00, 4.74693441e+00, 9.66581059e+00, 8.22752380e+00,\n",
              "       3.32378149e+00, 1.09179840e+01, 3.59326601e-03, 1.32648182e+00,\n",
              "       1.03471899e+01, 5.15096092e+00, 7.86934853e+00, 7.35623598e+00,\n",
              "       1.07077579e+01, 8.46558380e+00, 8.29886627e+00, 7.59930038e+00,\n",
              "       4.25743246e+00, 4.68599701e+00, 4.37583733e+00, 2.09307384e+00],\n",
              "      dtype=float32)"
            ]
          },
          "metadata": {
            "tags": []
          },
          "execution_count": 17
        }
      ]
    },
    {
      "cell_type": "markdown",
      "metadata": {
        "id": "hPDRn8Q6CFa6",
        "colab_type": "text"
      },
      "source": [
        "## Challenge\n",
        "\n",
        "Expected to talk about the components of autoencoder and their purpose. "
      ]
    },
    {
      "cell_type": "markdown",
      "metadata": {
        "id": "fhFWYj71CFa6",
        "colab_type": "text"
      },
      "source": [
        "# Train an Autoencoder (Learn)\n",
        "<a id=\"p2\"></a>"
      ]
    },
    {
      "cell_type": "markdown",
      "metadata": {
        "id": "pn121DuZCFa6",
        "colab_type": "text"
      },
      "source": [
        "## Overview\n",
        "\n",
        "As long as our architecture maintains an hourglass shape, we can continue to add layers and create a deeper network. "
      ]
    },
    {
      "cell_type": "markdown",
      "metadata": {
        "toc-hr-collapsed": true,
        "id": "ApyHRqXHCFa7",
        "colab_type": "text"
      },
      "source": [
        "## Follow Along"
      ]
    },
    {
      "cell_type": "markdown",
      "metadata": {
        "id": "Kv9lmIaaCFa7",
        "colab_type": "text"
      },
      "source": [
        "### Deep Autoencoder"
      ]
    },
    {
      "cell_type": "code",
      "metadata": {
        "id": "ubeGdwkvCFa8",
        "colab_type": "code",
        "colab": {}
      },
      "source": [
        "input_img = Input(shape=(784,))\n",
        "\n",
        "\n",
        "encoded = Dense(128, activation='relu')(input_img)\n",
        "encoded = Dense(64, activation='relu')(encoded)\n",
        "encoded = Dense(32, activation='relu')(encoded)\n",
        "\n",
        "decoded = Dense(64, activation='relu')(encoded)\n",
        "decoded = Dense(128, activation='relu')(decoded)\n",
        "decoded = Dense(784, activation='sigmoid')(decoded)"
      ],
      "execution_count": 19,
      "outputs": []
    },
    {
      "cell_type": "code",
      "metadata": {
        "id": "OTY5nFWvCFbA",
        "colab_type": "code",
        "colab": {
          "base_uri": "https://localhost:8080/",
          "height": 1000
        },
        "outputId": "cd71dbaa-462d-4075-ef3e-f2b46fd6446d"
      },
      "source": [
        "# compile & fit model\n",
        "\n",
        "# Input and output of the data in functional api compile\n",
        "\n",
        "### LOOK INTO THIS!!!: >>> mc = ModelCheckpoint() MODEL CHECKPOINTS TO GGL DRV###\n",
        "\n",
        "autoencoder = Model(input_img, decoded)\n",
        "\n",
        "autoencoder.compile(loss='binary_crossentropy', optimizer='nadam')\n",
        "\n",
        "autoencoder.fit(x_train, x_train,\n",
        "                epochs = 30,\n",
        "                shuffle=True,\n",
        "                validation_data=(x_test, x_test))\n",
        "\n",
        "# Looking to beat .0928"
      ],
      "execution_count": 21,
      "outputs": [
        {
          "output_type": "stream",
          "text": [
            "Epoch 1/30\n",
            "1875/1875 [==============================] - 11s 6ms/step - loss: 0.1533 - val_loss: 0.1172\n",
            "Epoch 2/30\n",
            "1875/1875 [==============================] - 10s 6ms/step - loss: 0.1112 - val_loss: 0.1027\n",
            "Epoch 3/30\n",
            "1875/1875 [==============================] - 10s 6ms/step - loss: 0.1012 - val_loss: 0.0965\n",
            "Epoch 4/30\n",
            "1875/1875 [==============================] - 11s 6ms/step - loss: 0.0957 - val_loss: 0.0925\n",
            "Epoch 5/30\n",
            "1875/1875 [==============================] - 11s 6ms/step - loss: 0.0922 - val_loss: 0.0896\n",
            "Epoch 6/30\n",
            "1875/1875 [==============================] - 10s 6ms/step - loss: 0.0898 - val_loss: 0.0882\n",
            "Epoch 7/30\n",
            "1875/1875 [==============================] - 10s 6ms/step - loss: 0.0880 - val_loss: 0.0863\n",
            "Epoch 8/30\n",
            "1875/1875 [==============================] - 10s 6ms/step - loss: 0.0866 - val_loss: 0.0850\n",
            "Epoch 9/30\n",
            "1875/1875 [==============================] - 10s 6ms/step - loss: 0.0855 - val_loss: 0.0843\n",
            "Epoch 10/30\n",
            "1875/1875 [==============================] - 10s 6ms/step - loss: 0.0846 - val_loss: 0.0837\n",
            "Epoch 11/30\n",
            "1875/1875 [==============================] - 10s 6ms/step - loss: 0.0838 - val_loss: 0.0825\n",
            "Epoch 12/30\n",
            "1875/1875 [==============================] - 10s 6ms/step - loss: 0.0830 - val_loss: 0.0819\n",
            "Epoch 13/30\n",
            "1875/1875 [==============================] - 10s 6ms/step - loss: 0.0824 - val_loss: 0.0814\n",
            "Epoch 14/30\n",
            "1875/1875 [==============================] - 10s 6ms/step - loss: 0.0819 - val_loss: 0.0814\n",
            "Epoch 15/30\n",
            "1875/1875 [==============================] - 10s 6ms/step - loss: 0.0816 - val_loss: 0.0808\n",
            "Epoch 16/30\n",
            "1875/1875 [==============================] - 10s 6ms/step - loss: 0.0813 - val_loss: 0.0804\n",
            "Epoch 17/30\n",
            "1875/1875 [==============================] - 10s 6ms/step - loss: 0.0810 - val_loss: 0.0806\n",
            "Epoch 18/30\n",
            "1875/1875 [==============================] - 10s 6ms/step - loss: 0.0808 - val_loss: 0.0804\n",
            "Epoch 19/30\n",
            "1875/1875 [==============================] - 10s 6ms/step - loss: 0.0807 - val_loss: 0.0801\n",
            "Epoch 20/30\n",
            "1875/1875 [==============================] - 10s 6ms/step - loss: 0.0805 - val_loss: 0.0800\n",
            "Epoch 21/30\n",
            "1875/1875 [==============================] - 10s 6ms/step - loss: 0.0804 - val_loss: 0.0799\n",
            "Epoch 22/30\n",
            "1875/1875 [==============================] - 11s 6ms/step - loss: 0.0802 - val_loss: 0.0797\n",
            "Epoch 23/30\n",
            "1875/1875 [==============================] - 10s 6ms/step - loss: 0.0801 - val_loss: 0.0796\n",
            "Epoch 24/30\n",
            "1875/1875 [==============================] - 10s 6ms/step - loss: 0.0800 - val_loss: 0.0801\n",
            "Epoch 25/30\n",
            "1875/1875 [==============================] - 10s 6ms/step - loss: 0.0799 - val_loss: 0.0795\n",
            "Epoch 26/30\n",
            "1875/1875 [==============================] - 10s 6ms/step - loss: 0.0799 - val_loss: 0.0792\n",
            "Epoch 27/30\n",
            "1875/1875 [==============================] - 10s 6ms/step - loss: 0.0798 - val_loss: 0.0792\n",
            "Epoch 28/30\n",
            "1875/1875 [==============================] - 10s 6ms/step - loss: 0.0797 - val_loss: 0.0796\n",
            "Epoch 29/30\n",
            "1875/1875 [==============================] - 10s 6ms/step - loss: 0.0796 - val_loss: 0.0794\n",
            "Epoch 30/30\n",
            "1875/1875 [==============================] - 10s 6ms/step - loss: 0.0796 - val_loss: 0.0795\n"
          ],
          "name": "stdout"
        },
        {
          "output_type": "execute_result",
          "data": {
            "text/plain": [
              "<tensorflow.python.keras.callbacks.History at 0x7fae0165a390>"
            ]
          },
          "metadata": {
            "tags": []
          },
          "execution_count": 21
        }
      ]
    },
    {
      "cell_type": "code",
      "metadata": {
        "id": "wRRWAYhKLuoi",
        "colab_type": "code",
        "colab": {}
      },
      "source": [
        "decoded_imgs = autoencoder.predict(x_test)"
      ],
      "execution_count": 22,
      "outputs": []
    },
    {
      "cell_type": "code",
      "metadata": {
        "id": "EeSjENiECFbC",
        "colab_type": "code",
        "colab": {
          "base_uri": "https://localhost:8080/",
          "height": 161
        },
        "outputId": "f12151e2-1946-404f-ff10-1492b6259486"
      },
      "source": [
        "# use Matplotlib (don't ask)\n",
        "import matplotlib.pyplot as plt\n",
        "\n",
        "n = 10  # how many digits we will display\n",
        "plt.figure(figsize=(20, 4))\n",
        "for i in range(n):\n",
        "    # display original\n",
        "    ax = plt.subplot(2, n, i + 1)\n",
        "    plt.imshow(x_test[i].reshape(28, 28))\n",
        "    plt.gray()\n",
        "    ax.get_xaxis().set_visible(False)\n",
        "    ax.get_yaxis().set_visible(False)\n",
        "\n",
        "    # display reconstruction\n",
        "    ax = plt.subplot(2, n, i + 1 + n)\n",
        "    plt.imshow(decoded_imgs[i].reshape(28, 28))\n",
        "    plt.gray()\n",
        "    ax.get_xaxis().set_visible(False)\n",
        "    ax.get_yaxis().set_visible(False)\n",
        "plt.show()"
      ],
      "execution_count": 23,
      "outputs": [
        {
          "output_type": "display_data",
          "data": {
            "image/png": "[encoded data removed]",
            "text/plain": [
              "<Figure size 1440x288 with 20 Axes>"
            ]
          },
          "metadata": {
            "tags": [],
            "needs_background": "light"
          }
        }
      ]
    },
    {
      "cell_type": "markdown",
      "metadata": {
        "toc-hr-collapsed": true,
        "id": "LuYkvzV3CFbE",
        "colab_type": "text"
      },
      "source": [
        "### Convolutional autoencoder\n",
        "\n",
        "> Since our inputs are images, it makes sense to use convolutional neural networks (convnets) as encoders and decoders. In practical settings, autoencoders applied to images are always convolutional autoencoders --they simply perform much better.\n",
        "\n",
        "> Let's implement one. The encoder will consist in a stack of Conv2D and MaxPooling2D layers (max pooling being used for spatial down-sampling), while the decoder will consist in a stack of Conv2D and UpSampling2D layers."
      ]
    },
    {
      "cell_type": "code",
      "metadata": {
        "id": "fmbIKXhLCFbE",
        "colab_type": "code",
        "colab": {}
      },
      "source": [
        "# from keras.layers import Input, Dense, Conv2D, MaxPooling2D, UpSampling2D\n",
        "# from keras.models import Model\n",
        "# from keras import backend as K\n",
        "\n",
        "# # Create Model \n",
        "\n",
        "# autoencoder.compile(optimizer='adadelta', loss='binary_crossentropy')\n",
        "\n",
        "from tensorflow.keras.layers import Input, Dense, Conv2D, MaxPooling2D, UpSampling2D\n",
        "from tensorflow.keras.models import Model\n",
        "#from keras import backend as K\n",
        "# Create Model \n",
        "input_img = Input(shape=(28,28,1))\n",
        "x = Conv2D(16,(3,3), activation='relu', padding='same')(input_img)\n",
        "x = MaxPooling2D((2,2), padding='same')(x)\n",
        "x = Conv2D(8, (3, 3), activation='relu', padding='same')(x)\n",
        "x = MaxPooling2D((2, 2), padding='same')(x)\n",
        "x = Conv2D(8, (3, 3), activation='relu', padding='same')(x)\n",
        "encoded = MaxPooling2D((2, 2), padding='same')(x)\n",
        "\n",
        "# at this point the representation is (4, 4, 8) i.e. 128-dimensional representation\n",
        "\n",
        "x = Conv2D(8, (3, 3), activation='relu', padding='same')(encoded)\n",
        "x = UpSampling2D((2, 2))(x)\n",
        "x = Conv2D(8, (3, 3), activation='relu', padding='same')(x)\n",
        "x = UpSampling2D((2, 2))(x)\n",
        "x = Conv2D(16, (3, 3), activation='relu')(x)\n",
        "x = UpSampling2D((2, 2))(x)\n",
        "\n",
        "decoded = Conv2D(1, (3, 3), activation='sigmoid', padding='same')(x)\n",
        "autoencoder = Model(input_img, decoded)\n",
        "\n",
        "autoencoder.compile(optimizer='nadam', loss='binary_crossentropy')"
      ],
      "execution_count": 24,
      "outputs": []
    },
    {
      "cell_type": "code",
      "metadata": {
        "id": "hszqqx8RNm_z",
        "colab_type": "code",
        "colab": {
          "base_uri": "https://localhost:8080/",
          "height": 629
        },
        "outputId": "0afd12a2-698e-40d9-f906-b3216b044e6f"
      },
      "source": [
        "autoencoder.summary()"
      ],
      "execution_count": 25,
      "outputs": [
        {
          "output_type": "stream",
          "text": [
            "Model: \"model_4\"\n",
            "_________________________________________________________________\n",
            "Layer (type)                 Output Shape              Param #   \n",
            "=================================================================\n",
            "input_4 (InputLayer)         [(None, 28, 28, 1)]       0         \n",
            "_________________________________________________________________\n",
            "conv2d (Conv2D)              (None, 28, 28, 16)        160       \n",
            "_________________________________________________________________\n",
            "max_pooling2d (MaxPooling2D) (None, 14, 14, 16)        0         \n",
            "_________________________________________________________________\n",
            "conv2d_1 (Conv2D)            (None, 14, 14, 8)         1160      \n",
            "_________________________________________________________________\n",
            "max_pooling2d_1 (MaxPooling2 (None, 7, 7, 8)           0         \n",
            "_________________________________________________________________\n",
            "conv2d_2 (Conv2D)            (None, 7, 7, 8)           584       \n",
            "_________________________________________________________________\n",
            "max_pooling2d_2 (MaxPooling2 (None, 4, 4, 8)           0         \n",
            "_________________________________________________________________\n",
            "conv2d_3 (Conv2D)            (None, 4, 4, 8)           584       \n",
            "_________________________________________________________________\n",
            "up_sampling2d (UpSampling2D) (None, 8, 8, 8)           0         \n",
            "_________________________________________________________________\n",
            "conv2d_4 (Conv2D)            (None, 8, 8, 8)           584       \n",
            "_________________________________________________________________\n",
            "up_sampling2d_1 (UpSampling2 (None, 16, 16, 8)         0         \n",
            "_________________________________________________________________\n",
            "conv2d_5 (Conv2D)            (None, 14, 14, 16)        1168      \n",
            "_________________________________________________________________\n",
            "up_sampling2d_2 (UpSampling2 (None, 28, 28, 16)        0         \n",
            "_________________________________________________________________\n",
            "conv2d_6 (Conv2D)            (None, 28, 28, 1)         145       \n",
            "=================================================================\n",
            "Total params: 4,385\n",
            "Trainable params: 4,385\n",
            "Non-trainable params: 0\n",
            "_________________________________________________________________\n"
          ],
          "name": "stdout"
        }
      ]
    },
    {
      "cell_type": "code",
      "metadata": {
        "id": "mjP9i2q1CFbH",
        "colab_type": "code",
        "colab": {
          "base_uri": "https://localhost:8080/",
          "height": 34
        },
        "outputId": "bef96394-ed4f-4995-9403-0066fc1794bf"
      },
      "source": [
        "from keras.datasets import mnist\n",
        "import numpy as np\n",
        "\n",
        "(x_train, _), (x_test, _) = mnist.load_data()\n",
        "\n",
        "x_train = x_train.astype('float32') / 255.\n",
        "x_test = x_test.astype('float32') / 255.\n",
        "x_train = np.reshape(x_train, (len(x_train), 28, 28, 1))  # adapt this if using `channels_first` image data format\n",
        "x_test = np.reshape(x_test, (len(x_test), 28, 28, 1))  # adapt this if using `channels_first` image data format"
      ],
      "execution_count": 26,
      "outputs": [
        {
          "output_type": "stream",
          "text": [
            "Using TensorFlow backend.\n"
          ],
          "name": "stderr"
        }
      ]
    },
    {
      "cell_type": "code",
      "metadata": {
        "id": "5z5DgG9fCFbJ",
        "colab_type": "code",
        "colab": {
          "base_uri": "https://localhost:8080/",
          "height": 1000
        },
        "outputId": "b717e99f-9d5a-4247-9c81-28bf7307c325"
      },
      "source": [
        "import os\n",
        "\n",
        "# stop = EarlyStopping(monitor=..., min_delta=0.001, patience=2)\n",
        "\n",
        "# logdir = os.path.join(\"logs\", datetime.datetime.now().strftime(\"%Y%m%d-%H%M%S\"))\n",
        "# tensorboard = Tensorboard(log_dir=logdir)\n",
        "\n",
        "autoencoder.fit(x_train, x_train,\n",
        "                epochs=30,\n",
        "                batch_size=64,\n",
        "                shuffle=True,\n",
        "                validation_data=(x_test, x_test)\n",
        "                )"
      ],
      "execution_count": 28,
      "outputs": [
        {
          "output_type": "stream",
          "text": [
            "Epoch 1/30\n",
            "938/938 [==============================] - 11s 12ms/step - loss: 0.1800 - val_loss: 0.1416\n",
            "Epoch 2/30\n",
            "938/938 [==============================] - 10s 11ms/step - loss: 0.1333 - val_loss: 0.1303\n",
            "Epoch 3/30\n",
            "938/938 [==============================] - 10s 10ms/step - loss: 0.1216 - val_loss: 0.1184\n",
            "Epoch 4/30\n",
            "938/938 [==============================] - 10s 10ms/step - loss: 0.1149 - val_loss: 0.1110\n",
            "Epoch 5/30\n",
            "938/938 [==============================] - 10s 10ms/step - loss: 0.1105 - val_loss: 0.1067\n",
            "Epoch 6/30\n",
            "938/938 [==============================] - 10s 11ms/step - loss: 0.1073 - val_loss: 0.1045\n",
            "Epoch 7/30\n",
            "938/938 [==============================] - 11s 12ms/step - loss: 0.1047 - val_loss: 0.1026\n",
            "Epoch 8/30\n",
            "938/938 [==============================] - 11s 12ms/step - loss: 0.1027 - val_loss: 0.0998\n",
            "Epoch 9/30\n",
            "938/938 [==============================] - 11s 12ms/step - loss: 0.1010 - val_loss: 0.0984\n",
            "Epoch 10/30\n",
            "938/938 [==============================] - 11s 12ms/step - loss: 0.0997 - val_loss: 0.0979\n",
            "Epoch 11/30\n",
            "938/938 [==============================] - 11s 12ms/step - loss: 0.0984 - val_loss: 0.0993\n",
            "Epoch 12/30\n",
            "938/938 [==============================] - 11s 12ms/step - loss: 0.0976 - val_loss: 0.0963\n",
            "Epoch 13/30\n",
            "938/938 [==============================] - 11s 12ms/step - loss: 0.0967 - val_loss: 0.0954\n",
            "Epoch 14/30\n",
            "938/938 [==============================] - 11s 12ms/step - loss: 0.0960 - val_loss: 0.0968\n",
            "Epoch 15/30\n",
            "938/938 [==============================] - 11s 12ms/step - loss: 0.0955 - val_loss: 0.0942\n",
            "Epoch 16/30\n",
            "938/938 [==============================] - 11s 12ms/step - loss: 0.0950 - val_loss: 0.0934\n",
            "Epoch 17/30\n",
            "938/938 [==============================] - 11s 12ms/step - loss: 0.0945 - val_loss: 0.0929\n",
            "Epoch 18/30\n",
            "938/938 [==============================] - 11s 12ms/step - loss: 0.0941 - val_loss: 0.0928\n",
            "Epoch 19/30\n",
            "938/938 [==============================] - 11s 12ms/step - loss: 0.0938 - val_loss: 0.0929\n",
            "Epoch 20/30\n",
            "938/938 [==============================] - 11s 12ms/step - loss: 0.0935 - val_loss: 0.0921\n",
            "Epoch 21/30\n",
            "938/938 [==============================] - 11s 12ms/step - loss: 0.0931 - val_loss: 0.0918\n",
            "Epoch 22/30\n",
            "938/938 [==============================] - 11s 12ms/step - loss: 0.0929 - val_loss: 0.0927\n",
            "Epoch 23/30\n",
            "938/938 [==============================] - 11s 12ms/step - loss: 0.0926 - val_loss: 0.0915\n",
            "Epoch 24/30\n",
            "938/938 [==============================] - 11s 12ms/step - loss: 0.0924 - val_loss: 0.0973\n",
            "Epoch 25/30\n",
            "938/938 [==============================] - 11s 12ms/step - loss: 0.0922 - val_loss: 0.0909\n",
            "Epoch 26/30\n",
            "938/938 [==============================] - 11s 12ms/step - loss: 0.0920 - val_loss: 0.0924\n",
            "Epoch 27/30\n",
            "938/938 [==============================] - 11s 12ms/step - loss: 0.0919 - val_loss: 0.0905\n",
            "Epoch 28/30\n",
            "938/938 [==============================] - 11s 12ms/step - loss: 0.0917 - val_loss: 0.0905\n",
            "Epoch 29/30\n",
            "938/938 [==============================] - 11s 12ms/step - loss: 0.0915 - val_loss: 0.0904\n",
            "Epoch 30/30\n",
            "938/938 [==============================] - 11s 12ms/step - loss: 0.0914 - val_loss: 0.0913\n"
          ],
          "name": "stdout"
        },
        {
          "output_type": "execute_result",
          "data": {
            "text/plain": [
              "<tensorflow.python.keras.callbacks.History at 0x7fadff025d30>"
            ]
          },
          "metadata": {
            "tags": []
          },
          "execution_count": 28
        }
      ]
    },
    {
      "cell_type": "code",
      "metadata": {
        "id": "S95oUR0vCFbL",
        "colab_type": "code",
        "colab": {}
      },
      "source": [
        "decoded_imgs = autoencoder.predict(x_test)\n",
        "\n",
        "n = 10\n",
        "plt.figure(figsize=(20, 4))\n",
        "for i in range(n):\n",
        "    # display original\n",
        "    ax = plt.subplot(2, n, i)\n",
        "    plt.imshow(x_test[i].reshape(28, 28))\n",
        "    plt.gray()\n",
        "    ax.get_xaxis().set_visible(False)\n",
        "    ax.get_yaxis().set_visible(False)\n",
        "\n",
        "    # display reconstruction\n",
        "    ax = plt.subplot(2, n, i + n)\n",
        "    plt.imshow(decoded_imgs[i].reshape(28, 28))\n",
        "    plt.gray()\n",
        "    ax.get_xaxis().set_visible(False)\n",
        "    ax.get_yaxis().set_visible(False)\n",
        "plt.show()"
      ],
      "execution_count": null,
      "outputs": []
    },
    {
      "cell_type": "markdown",
      "metadata": {
        "id": "zVUfwj-qCFbO",
        "colab_type": "text"
      },
      "source": [
        "#### Visualization of the Representations"
      ]
    },
    {
      "cell_type": "code",
      "metadata": {
        "id": "M2NoWevTCFbO",
        "colab_type": "code",
        "colab": {}
      },
      "source": [
        "encoder = Model(input_img, encoded)\n",
        "encoder.predict(x_train)\n",
        "\n",
        "n = 10\n",
        "plt.figure(figsize=(20, 8))\n",
        "for i in range(n):\n",
        "    ax = plt.subplot(1, n, i)\n",
        "    plt.imshow(encoded_imgs[i].reshape(4, 4 * 8).T)\n",
        "    plt.gray()\n",
        "    ax.get_xaxis().set_visible(False)\n",
        "    ax.get_yaxis().set_visible(False)\n",
        "plt.show()"
      ],
      "execution_count": null,
      "outputs": []
    },
    {
      "cell_type": "markdown",
      "metadata": {
        "id": "2AyqkOBFCFbR",
        "colab_type": "text"
      },
      "source": [
        "## Challenge\n",
        "\n",
        "You will train an autoencoder at some point in the near future. "
      ]
    },
    {
      "cell_type": "markdown",
      "metadata": {
        "id": "3_etVbKnCFbR",
        "colab_type": "text"
      },
      "source": [
        "# Information Retrieval with Autoencoders (Learn)\n",
        "<a id=\"p3\"></a>"
      ]
    },
    {
      "cell_type": "markdown",
      "metadata": {
        "id": "UTvQJWtCCFbS",
        "colab_type": "text"
      },
      "source": [
        "## Overview\n",
        "\n",
        "A common usecase for autoencoders is for reverse image search. Let's try to draw an image and see what's most similiar in our dataset. \n",
        "\n",
        "To accomplish this we will need to slice our autoendoer in half to extract our reduced features. :) "
      ]
    },
    {
      "cell_type": "markdown",
      "metadata": {
        "id": "CCOQ0GSiCFbS",
        "colab_type": "text"
      },
      "source": [
        "## Follow Along"
      ]
    },
    {
      "cell_type": "code",
      "metadata": {
        "id": "TPnNwRyNCFbS",
        "colab_type": "code",
        "colab": {}
      },
      "source": [
        "encoder = Model(input_img, encoded)\n",
        "encoded_imgs = encoder.predict(x_train)"
      ],
      "execution_count": null,
      "outputs": []
    },
    {
      "cell_type": "code",
      "metadata": {
        "id": "vHvbT9Q4CFbV",
        "colab_type": "code",
        "colab": {}
      },
      "source": [
        "encoded_imgs[0].T"
      ],
      "execution_count": null,
      "outputs": []
    },
    {
      "cell_type": "code",
      "metadata": {
        "id": "5tSbaS8wCFbY",
        "colab_type": "code",
        "colab": {}
      },
      "source": [
        "from sklearn.neighbors import NearestNeighbors\n",
        "\n",
        "nn = NearestNeighbors(n_neighbors=10, algorithm='ball_tree')\n",
        "nn.fit(encoded_imgs)"
      ],
      "execution_count": null,
      "outputs": []
    },
    {
      "cell_type": "code",
      "metadata": {
        "id": "GTSYF_YCCFba",
        "colab_type": "code",
        "colab": {}
      },
      "source": [
        "nn.kneighbors(...)"
      ],
      "execution_count": null,
      "outputs": []
    },
    {
      "cell_type": "markdown",
      "metadata": {
        "id": "Y7arOWqhCFbc",
        "colab_type": "text"
      },
      "source": [
        "## Challenge\n",
        "\n",
        "You should already be familiar with KNN and similarity queries, so the key component of this section is know what to 'slice' from your autoencoder (the encoder) to extract features from your data. "
      ]
    },
    {
      "cell_type": "markdown",
      "metadata": {
        "id": "5AfTLa2ACFbd",
        "colab_type": "text"
      },
      "source": [
        "# Review\n",
        "\n",
        "* <a href=\"#p1\">Part 1</a>: Describe the componenets of an autoencoder\n",
        "    - Enocder\n",
        "    - Decoder\n",
        "* <a href=\"#p2\">Part 2</a>: Train an autoencoder\n",
        "    - Can do in Keras Easily\n",
        "    - Can use a variety of architectures\n",
        "    - Architectures must follow hourglass shape\n",
        "* <a href=\"#p3\">Part 3</a>: Apply an autoenocder to a basic information retrieval problem\n",
        "    - Extract just the encoder to use for various tasks\n",
        "    - AE ares good for dimensionality reduction, reverse image search, and may more things. \n"
      ]
    },
    {
      "cell_type": "markdown",
      "metadata": {
        "id": "LeCS1RyiCFbd",
        "colab_type": "text"
      },
      "source": [
        "# Sources\n",
        "\n",
        "__References__\n",
        "- [Building Autoencoders in Keras](https://blog.keras.io/building-autoencoders-in-keras.html)\n",
        "- [Deep Learning Cookbook](http://shop.oreilly.com/product/0636920097471.do)\n",
        "\n",
        "__Additional Material__"
      ]
    }
  ]
}